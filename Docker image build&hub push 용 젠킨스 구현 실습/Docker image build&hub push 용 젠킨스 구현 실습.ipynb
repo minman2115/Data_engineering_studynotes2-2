{
 "cells": [
  {
   "cell_type": "markdown",
   "metadata": {},
   "source": [
    ".\n",
    "\n",
    "Data_Engineering_TIL(20200718)\n",
    "\n",
    "\n",
    "Study Program : Docker 기반의 DevOps 인프라 구축 WORKSHOP\n",
    "\n",
    "\n",
    "관련 URL : https://www.fastcampus.co.kr/dev_workshop_devops\n",
    "\n",
    "\n",
    "학습자료 출처 : http://www.authorstream.com/Presentation/k16wire-4341187-devops-docker-day2-v7/\n",
    "\n",
    "[학습내용]\n",
    "\n",
    "- jenkins blueocean = jenkins 호환 CD 플랫폼\n",
    "\n",
    "\n",
    "#### Image build용 docker 젠킨스 실행 실습 내용\n",
    "\n",
    "도커로 젠킨스를 띄우고 해당 젠킨스에 접속하여 원하는 이미지를 빌드하고, 나의 도커 허브에 push하는 실습\n",
    "\n",
    "\n",
    "아래와 같은 리눅스 명령어로 해당실습을 진행할 수 있다."
   ]
  },
  {
   "cell_type": "code",
   "execution_count": null,
   "metadata": {},
   "outputs": [],
   "source": [
    "docker image 빌드용 젠킨스 컨테이너 실행\n",
    "[ec2-user@ip-10-1-10-133 ~]$ docker run -d --name myjenkins -p 8080:8080 -u root -v /var/run/docker.sock jenkinsci/blueocean\n",
    "Unable to find image 'jenkinsci/blueocean:latest' locally\n",
    "latest: Pulling from jenkinsci/blueocean\n",
    "e7c96db7181b: Pull complete\n",
    "f910a506b6cb: Pull complete\n",
    "c2274a1a0e27: Pull complete\n",
    "32d53281836a: Pull complete\n",
    "d19882e06da9: Pull complete\n",
    "bb5ae2dd7604: Pull complete\n",
    "da600481a343: Pull complete\n",
    "b2eee6194b25: Pull complete\n",
    "7e6c909f6612: Pull complete\n",
    "bfd4a2f697a1: Pull complete\n",
    "26ef4ee2d217: Pull complete\n",
    "613d0d828036: Pull complete\n",
    "be508f36e226: Pull complete\n",
    "467e42db64e3: Pull complete\n",
    "79fb34f8b080: Pull complete\n",
    "Digest: sha256:654e3e83b513abe4f86e19c1521609f2a4f3926a949b186172a619f3dc9f84ee\n",
    "Status: Downloaded newer image for jenkinsci/blueocean:latest\n",
    "4f34842e7c7f8a18daef8a2e7e900557d9bdc874e24db949b158ca781fcd9bc5\n",
    "\n",
    "웹브라우저에서 젠킨스 최초접속을 위한 암호확인\n",
    "[ec2-user@ip-10-1-10-133 ~]$ docker exec myjenkins cat /var/jenkins_home/secrets/initialAdminPassword\n",
    "xxxxxxxxxxxxxxxxxxxxxxxxxxxxxxxxx"
   ]
  },
  {
   "cell_type": "markdown",
   "metadata": {},
   "source": [
    "웹브라우저를 열고 [도커를 실행한 호스트의 아피]:8080 으로 접속하면 된다.\n",
    "\n",
    "![4](https://user-images.githubusercontent.com/41605276/88757146-5f2d5380-d1a0-11ea-99a7-14977659c77f.PNG)\n",
    "\n",
    "또는 docker-compose로 젠킨스 컨테이너를 띄울 수도 있다.\n",
    "\n",
    "![jenkins](https://user-images.githubusercontent.com/41605276/88757800-d6afb280-d1a1-11ea-9a27-aa041fd237e3.png)"
   ]
  }
 ],
 "metadata": {
  "kernelspec": {
   "display_name": "Python 3",
   "language": "python",
   "name": "python3"
  },
  "language_info": {
   "codemirror_mode": {
    "name": "ipython",
    "version": 3
   },
   "file_extension": ".py",
   "mimetype": "text/x-python",
   "name": "python",
   "nbconvert_exporter": "python",
   "pygments_lexer": "ipython3",
   "version": "3.7.4"
  }
 },
 "nbformat": 4,
 "nbformat_minor": 2
}
