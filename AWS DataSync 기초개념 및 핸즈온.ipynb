{
 "cells": [
  {
   "cell_type": "markdown",
   "metadata": {},
   "source": [
    ".\n",
    "\n",
    "Data_Engineering_TIL_(20200220)\n",
    "\n",
    "\n",
    "### 1. 개요\n",
    "\n",
    "\n",
    "\"완전관리형 파일 복제서비스\"\n",
    "\n",
    "\n",
    "- 데이터를 source 영역에서 destination 영역으로 보내는 옵션은 여러 옵션중 하나\n",
    "\n",
    "\n",
    "- 그러면 DataSync를 사용하면 사용자가 얻을 수 있는 이득이 뭐냐?\n",
    "\n",
    "1) 복제하려고 하는 폴더의 경로를 선택적으로 필터링 가능\n",
    "\n",
    "2) 복제 과정에서 파일 권한이나 타임스탬프 정보도 선택적으로 복제가능\n",
    "\n",
    "3) 복제 후에 원본 객체가 제대로 복사되었는지 검증가능\n",
    "\n",
    "4) 복제 작업을 병렬적으로 수행가능 \n",
    "\n",
    "\n",
    "### 2. 활용양상\n",
    "\n",
    "양상 1) FileServer(On-prem) to S3 or EFS (AWS)\n",
    "\n",
    "양상 2) EFS (AWS A region) to EFS (AWS B region) , 같은 리전끼리도 가능\n",
    "\n",
    "양상 3) S3 (AWS A region)  to EFS (AWS B region) , 같은 리전끼리도 가능\n",
    "\n",
    "\n",
    "결론적으로 NFS (On Prem or AWS), EFS (AWS), S3 (AWS)의 조합이며 다른 AWS 리전이나 계정으로 넘어가는 구성이 추가적으로 있다고 보면된다.\n",
    "\n",
    "이때 복제는 Datasync의 Agent가 설치된 버츄얼머신을 두가지 형태로 제공한다.\n",
    "\n",
    "1) On Prem 환경에서 사용하는 VMWare 이미지\n",
    "\n",
    "2) AWS 환경에서 사용하는 Region별 AMI\n",
    "\n",
    "\n",
    "### 3. DataSync를 이용한 S3 -> EFS 파일복사 핸즈온\n",
    "\n",
    "- 구현할 아키텍처"
   ]
  },
  {
   "cell_type": "markdown",
   "metadata": {},
   "source": [
    "![3](https://user-images.githubusercontent.com/41605276/74918922-2927be80-540d-11ea-9302-b6588a984973.png)"
   ]
  },
  {
   "cell_type": "markdown",
   "metadata": {},
   "source": [
    "#### step 1)  s3 버킷에 source 데이터 위치 확인"
   ]
  },
  {
   "cell_type": "markdown",
   "metadata": {},
   "source": [
    "![1](https://user-images.githubusercontent.com/41605276/74920494-976d8080-540f-11ea-947f-a1e0d5f4b14e.png)"
   ]
  },
  {
   "cell_type": "markdown",
   "metadata": {},
   "source": [
    "#### step 2) DataSync 에이전트 생성"
   ]
  },
  {
   "cell_type": "markdown",
   "metadata": {},
   "source": [
    "![2](https://user-images.githubusercontent.com/41605276/74920645-d7346800-540f-11ea-8c40-c644083a5788.png)"
   ]
  },
  {
   "cell_type": "markdown",
   "metadata": {},
   "source": [
    "#### step 3) EFS 생성"
   ]
  },
  {
   "cell_type": "markdown",
   "metadata": {},
   "source": [
    "![4](https://user-images.githubusercontent.com/41605276/74920091-eebf2100-540e-11ea-9505-416bc9b13d70.png)"
   ]
  },
  {
   "cell_type": "markdown",
   "metadata": {},
   "source": [
    "#### step 4) DataSync task 생성"
   ]
  },
  {
   "cell_type": "markdown",
   "metadata": {},
   "source": [
    "![5](https://user-images.githubusercontent.com/41605276/74919808-83754f00-540e-11ea-88cd-260213d4c434.png)"
   ]
  },
  {
   "cell_type": "markdown",
   "metadata": {},
   "source": [
    "#### step 4) DataSync task Start 및 결과 확인"
   ]
  },
  {
   "cell_type": "markdown",
   "metadata": {},
   "source": [
    "![6](https://user-images.githubusercontent.com/41605276/74920381-70af4a00-540f-11ea-92bc-8032192acb3c.png)"
   ]
  }
 ],
 "metadata": {
  "kernelspec": {
   "display_name": "Python 3",
   "language": "python",
   "name": "python3"
  },
  "language_info": {
   "codemirror_mode": {
    "name": "ipython",
    "version": 3
   },
   "file_extension": ".py",
   "mimetype": "text/x-python",
   "name": "python",
   "nbconvert_exporter": "python",
   "pygments_lexer": "ipython3",
   "version": "3.7.4"
  }
 },
 "nbformat": 4,
 "nbformat_minor": 2
}
