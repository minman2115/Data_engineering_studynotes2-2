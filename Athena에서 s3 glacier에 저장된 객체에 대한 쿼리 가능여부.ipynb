{
 "cells": [
  {
   "cell_type": "markdown",
   "metadata": {},
   "source": [
    ".\n",
    "\n",
    "Data_Engineering_TIL(20201202)\n",
    "\n",
    "AWS support cases로 공부한 내용입니다.\n",
    "\n",
    "[학습내용]\n",
    "\n",
    "결론 : Athena can query S3 objects that are restored from Glacier. \n",
    "\n",
    "--> 가능은한데 중간에 glacier로부터 복원하는 과정이 필요하다.\n",
    "\n",
    "상세내용 : \n",
    "\n",
    "According to official documentation [1], Athena does not support querying the data in the GLACIER storage class. Also as you might know, when you restore a glacier object, Amazon S3 restores a temporary copy of the object only for the specified duration. \n",
    "\n",
    "After that, it deletes the restored object copy [2]. This means even if the object has been restored from Glacier and can be accessible in real time, the object is still in Glacier storage class. \n",
    "\n",
    "If you want to make Athena query work with the GLACIER objects, please transition the object back to the Amazon S3 Standard storage class. You will need to first restore each object individually, and then change the storage class to 'Standard' by running a copy operation either by overwriting the existing object or copying the object into another location [3]. Please see the section \"Change the object's storage class to Amazon S3 Standard\" in documentation link [3].\n",
    "\n",
    "To check if the object was restored successfully or not and its storage class, please use the command below:\n",
    "\n",
    "$ aws s3api head-object --bucket abcde --key objectname\n",
    "\n",
    "Sample output:"
   ]
  },
  {
   "cell_type": "code",
   "execution_count": null,
   "metadata": {},
   "outputs": [],
   "source": [
    "{\n",
    "    \"AcceptRanges\": \"bytes\",\n",
    "    \"Restore\": \"ongoing-request=\\\"false\\\", expiry-date=\\\"Mon, 19 Nov 2020 00:00:00 GMT\\\"\",\n",
    "    \"LastModified\": \"2020-04-01T00:01:03+00:00\",\n",
    "    \"ContentLength\": 258621,\n",
    "    \"ETag\": \"\\\"b4846a06d1dd903ccdf5b4a00b56fb94-1\\\"\",\n",
    "    \"ContentType\": \"\",\n",
    "    \"ServerSideEncryption\": \"AES256\",\n",
    "    \"Metadata\": {},\n",
    "    \"StorageClass\": \"GLACIER\"\n",
    "}"
   ]
  },
  {
   "cell_type": "markdown",
   "metadata": {},
   "source": [
    "References:\n",
    "\n",
    "[1] Creating Tables in Athena - Requirements for Tables in Athena and Data in Amazon S3  - https://docs.aws.amazon.com/athena/latest/ug/creating-tables.html#s3-considerations \n",
    "\n",
    "\n",
    "[2] Restoring Archived Objects - https://docs.aws.amazon.com/AmazonS3/latest/dev/restoring-objects.html \n",
    "\n",
    "\n",
    "[3] How can I restore an S3 object from the Amazon Glacier storage class using the AWS CLI? - https://aws.amazon.com/premiumsupport/knowledge-center/restore-s3-object-glacier-storage-class/"
   ]
  }
 ],
 "metadata": {
  "kernelspec": {
   "display_name": "Python 3",
   "language": "python",
   "name": "python3"
  },
  "language_info": {
   "codemirror_mode": {
    "name": "ipython",
    "version": 3
   },
   "file_extension": ".py",
   "mimetype": "text/x-python",
   "name": "python",
   "nbconvert_exporter": "python",
   "pygments_lexer": "ipython3",
   "version": "3.7.4"
  }
 },
 "nbformat": 4,
 "nbformat_minor": 2
}
