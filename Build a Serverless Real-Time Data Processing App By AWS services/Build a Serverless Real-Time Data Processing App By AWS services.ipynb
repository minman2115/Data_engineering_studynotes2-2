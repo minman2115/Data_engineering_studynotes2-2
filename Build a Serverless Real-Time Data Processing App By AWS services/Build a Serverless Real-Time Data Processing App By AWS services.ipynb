{
 "cells": [
  {
   "cell_type": "markdown",
   "metadata": {},
   "source": [
    "Data_Engineering_TIL_(20190909)\n",
    "\n",
    "#### [학습한 Contents]\n",
    "\n",
    "- AWS 튜토리얼\n",
    "\n",
    "1) 주제 : Build a Serverless Real-Time Data Processing App\n",
    "\n",
    "2) URL : https://aws.amazon.com/ko/getting-started/projects/build-serverless-real-time-data-processing-app-lambda-kinesis-s3-dynamodb-cognito-athena/\n",
    "\n",
    "\n",
    "#### [학습목표]\n",
    "\n",
    "\n",
    "- AWS 서비스를 이용한 실시간 데이터처리\n",
    "\n",
    "\n",
    "#### [구현목표 아키텍처]"
   ]
  },
  {
   "cell_type": "markdown",
   "metadata": {},
   "source": [
    "<img src=\"0.jpg\" width=\"1000\" />"
   ]
  },
  {
   "cell_type": "markdown",
   "metadata": {},
   "source": [
    "#### [실습내용 요약]\n",
    "\n",
    "#### step 1) Intro\n",
    "\n",
    "\n",
    "- Set up your AWS Cloud9 IDE\n",
    "\n",
    "\n",
    "- Set up the Command Line Clients\n",
    "\n",
    "\n",
    "#### step 2) Build a data stream\n",
    "\n",
    "\n",
    "- Create an Amazon Kinesis stream\n",
    "\n",
    "\n",
    "- Produce messages into the stream\n",
    "\n",
    "\n",
    "- Read messages from the stream\n",
    "\n",
    "\n",
    "- Create an identity pool for the unicorn dashboard\n",
    "\n",
    "\n",
    "- Grant the unauthenticated role access to the stream\n",
    "\n",
    "\n",
    "- View unicorn status on the dashboard\n",
    "\n",
    "\n",
    "- Experiment with the producer\n",
    "\n",
    "#### step 3) Aggregate data\n",
    "\n",
    "\n",
    "- Create an Amazon Kinesis stream\n",
    "\n",
    "\n",
    "- Create an Amazon Kinesis Data Analytics application\n",
    "\n",
    "\n",
    "- Read messages from the stream\n",
    "\n",
    "\n",
    "- Experiment with the producer\n",
    "\n",
    "#### step 4) Process streaming data\n",
    "\n",
    "\n",
    "- Create an Amazon DynamoDB tables\n",
    "\n",
    "\n",
    "- Create an IAM role for your Lambda function\n",
    "\n",
    "\n",
    "- Create a Lambda function to process the stream\n",
    "\n",
    "\n",
    "- Monitor the Lambda function\n",
    "\n",
    "\n",
    "- Query the DynamoDB table\n",
    "\n",
    "#### step 5) Store & query Data\n",
    "\n",
    "\n",
    "- Create an Amazon S3 bucket\n",
    "\n",
    "\n",
    "- Create an Amazon Kinesis Data Firehose delivery stream\n",
    "\n",
    "\n",
    "- Create an Amazon Athena table\n",
    "\n",
    "\n",
    "- Explore the batched data files\n",
    "\n",
    "\n",
    "- Query the data files\n",
    "\n",
    "#### [실습 상세내용]\n",
    "\n",
    "#### step 1) Intro\n",
    "\n",
    "step 1-1) Set up your AWS Cloud9 IDE\n",
    "\n",
    "클라우드9 콘솔 접속 및 create environment 클릭\n",
    "\n",
    "아래 그림과 같이 설정 후 생성"
   ]
  },
  {
   "cell_type": "markdown",
   "metadata": {},
   "source": [
    "<img src=\"1.jpg\" width=\"1000\" />"
   ]
  },
  {
   "cell_type": "markdown",
   "metadata": {},
   "source": [
    "<img src=\"2.jpg\" width=\"1000\" />"
   ]
  },
  {
   "cell_type": "markdown",
   "metadata": {},
   "source": [
    "<img src=\"3.jpg\" width=\"1000\" />"
   ]
  },
  {
   "cell_type": "markdown",
   "metadata": {},
   "source": [
    "다음을 누르면 최종검토 화면 전시, 생성한 내용이 맞는지 확인 후 최종생성"
   ]
  },
  {
   "cell_type": "markdown",
   "metadata": {},
   "source": [
    "<img src=\"4.jpg\" width=\"1000\" />"
   ]
  },
  {
   "cell_type": "markdown",
   "metadata": {},
   "source": [
    "생성 클릭하면 아래와 같이 로딩되면서 클라우드9이 생성됨"
   ]
  },
  {
   "cell_type": "markdown",
   "metadata": {},
   "source": [
    "<img src=\"5.jpg\" width=\"1000\" />"
   ]
  },
  {
   "cell_type": "markdown",
   "metadata": {},
   "source": [
    "생성이 완료되면 하단의 CLI 창에 aws sts get-caller-identity 명령어를 입력하여 계정관련 정보를 확인"
   ]
  },
  {
   "cell_type": "markdown",
   "metadata": {},
   "source": [
    "<img src=\"6.jpg\" width=\"1000\" />"
   ]
  },
  {
   "cell_type": "markdown",
   "metadata": {},
   "source": [
    "step 1-2) Set up the Command Line Clients\n",
    "\n",
    "https://aws.amazon.com/ko/getting-started/projects/build-serverless-real-time-data-processing-app-lambda-kinesis-s3-dynamodb-cognito-athena/ 의 아래와 같은 화면에서 produce.go와 consumer.go를 다운로드"
   ]
  },
  {
   "cell_type": "markdown",
   "metadata": {},
   "source": [
    "<img src=\"7.jpg\" width=\"1000\" />"
   ]
  },
  {
   "cell_type": "markdown",
   "metadata": {},
   "source": [
    "cloud9 cli 창으로 돌아와서 `curl -s https://dataprocessing.wildrydes.com/client/client.tar | tar -xv` 명령어를 실행하면 아래 그림과 같이 컨슈머와 프로듀서 파일이 좌측 상단화면에 생성되는 것을 확인할 수 있다."
   ]
  },
  {
   "cell_type": "markdown",
   "metadata": {},
   "source": [
    "<img src=\"8.jpg\" width=\"1000\" />"
   ]
  },
  {
   "cell_type": "markdown",
   "metadata": {},
   "source": [
    "주의사항 : cloud9 화면은 실습 간 계속 사용할 예정으로 항상 띄워놓고 있어야 한다.\n",
    " \n",
    "#### step 2) Build a data stream\n",
    "\n",
    "step 2) 에서 구현하고자 하는 아키텍처 부분"
   ]
  },
  {
   "cell_type": "markdown",
   "metadata": {},
   "source": [
    "<img src=\"9.jpg\" width=\"1000\" />"
   ]
  },
  {
   "cell_type": "markdown",
   "metadata": {},
   "source": [
    "step 2-1) Create an Amazon Kinesis stream\n",
    "\n",
    "키네시스 콘솔 접속 -> create data streams 클릭\n",
    "\n",
    "아래 화면과 같은 설정으로 생성해준다."
   ]
  },
  {
   "cell_type": "markdown",
   "metadata": {},
   "source": [
    "<img src=\"10.jpg\" width=\"1000\" />"
   ]
  },
  {
   "cell_type": "markdown",
   "metadata": {},
   "source": [
    "생성된 결과는 아래 그림과 같다."
   ]
  },
  {
   "cell_type": "markdown",
   "metadata": {},
   "source": [
    "<img src=\"11.jpg\" width=\"1000\" />"
   ]
  },
  {
   "cell_type": "markdown",
   "metadata": {},
   "source": [
    "step 2-2) Produce messages into the stream\n",
    "\n",
    "다시 cloud9 콘솔로 넘어가서 콘솔에서 ./producer 명령어를 실행한다.\n",
    "\n",
    "그러면 아래 그림과 같이 producer가 작동하는 것을 확인할 수 있다."
   ]
  },
  {
   "cell_type": "markdown",
   "metadata": {},
   "source": [
    "<img src=\"12.jpg\" width=\"1000\" />"
   ]
  },
  {
   "cell_type": "markdown",
   "metadata": {},
   "source": [
    "step 2-3) Read messages from the stream\n",
    "\n",
    "그리고 콘솔창을 하나 더 열어서 ./consumer 명령어를 실행하면 아래 그림과 같이 제이슨 형식의 데이터를 초단위로 수집하게 된다."
   ]
  },
  {
   "cell_type": "markdown",
   "metadata": {},
   "source": [
    "<img src=\"13.jpg\" width=\"1000\" />"
   ]
  },
  {
   "cell_type": "markdown",
   "metadata": {},
   "source": [
    "step 2-4) Create an identity pool for the unicorn dashboard\n",
    "\n",
    "AWS 콘솔에서 Cognito 로 접속해서 ‘자격증명 폴 관리’를 클릭한다.\n",
    "\n",
    "아래 그림과 같이 pool name을 부여하고 create pool을 클릭한다."
   ]
  },
  {
   "cell_type": "markdown",
   "metadata": {},
   "source": [
    "<img src=\"14.jpg\" width=\"1000\" />"
   ]
  },
  {
   "cell_type": "markdown",
   "metadata": {},
   "source": [
    "다음과 같은 화면이 전시될것인데 그러면 allow를 클릭한다."
   ]
  },
  {
   "cell_type": "markdown",
   "metadata": {},
   "source": [
    "<img src=\"15.jpg\" width=\"1000\" />"
   ]
  },
  {
   "cell_type": "markdown",
   "metadata": {},
   "source": [
    "그러면 pool이 생성되는데 우측상단에 edit identity pool을 클릭한다."
   ]
  },
  {
   "cell_type": "markdown",
   "metadata": {},
   "source": [
    "<img src=\"16.jpg\" width=\"1000\" />"
   ]
  },
  {
   "cell_type": "markdown",
   "metadata": {},
   "source": [
    "아래 그림과 같이 pool name을 부여하고 저장한다.\n",
    "\n",
    "identity pool id는 메모장에 잘 적어둔다."
   ]
  },
  {
   "cell_type": "markdown",
   "metadata": {},
   "source": [
    "<img src=\"17.jpg\" width=\"1000\" />"
   ]
  },
  {
   "cell_type": "markdown",
   "metadata": {},
   "source": [
    "step 2-5) Grant the unauthenticated role access to the stream\n",
    "\n",
    "IAM 서비스 콘솔로 이동해서 \n",
    "\n",
    "좌측 메뉴에서 roles클릭 -> 아래와 같이 검색하여 해당 롤을 클릭"
   ]
  },
  {
   "cell_type": "markdown",
   "metadata": {},
   "source": [
    "<img src=\"18.jpg\" width=\"1000\" />"
   ]
  },
  {
   "cell_type": "markdown",
   "metadata": {},
   "source": [
    "클릭해서 아래 그림과 같은 화면이 전시되면 add inline policy를 클릭한다."
   ]
  },
  {
   "cell_type": "markdown",
   "metadata": {},
   "source": [
    "<img src=\"19.jpg\" width=\"1000\" />"
   ]
  },
  {
   "cell_type": "markdown",
   "metadata": {},
   "source": [
    "아래 그림과 같은 화면이 전시되면 service는 kinesis로 선택, actions에서는 list와 read 선택한다."
   ]
  },
  {
   "cell_type": "markdown",
   "metadata": {},
   "source": [
    "<img src=\"20.jpg\" width=\"1000\" />"
   ]
  },
  {
   "cell_type": "markdown",
   "metadata": {},
   "source": [
    "그리고 resources로 넘어가서 stream 옆에 add arn 클릭,\n",
    "\n",
    "지역, 어카운트넘버, stream name을 아래 그림과 같이 입력해주고 add 클릭"
   ]
  },
  {
   "cell_type": "markdown",
   "metadata": {},
   "source": [
    "<img src=\"21.jpg\" width=\"1000\" />"
   ]
  },
  {
   "cell_type": "markdown",
   "metadata": {},
   "source": [
    "위의 내용들을 설정하면 아래 그림과 같이 setting이 된것을 확인할 수 있다."
   ]
  },
  {
   "cell_type": "markdown",
   "metadata": {},
   "source": [
    "<img src=\"22.jpg\" width=\"1000\" />"
   ]
  },
  {
   "cell_type": "markdown",
   "metadata": {},
   "source": [
    "그리고 좌측하단에 review policy를 클릭하면 아래 그림과 같은 화면이 전시되는데 Name을 아래 그림과 같이 부여해주고 create policy를 클릭한다."
   ]
  },
  {
   "cell_type": "markdown",
   "metadata": {},
   "source": [
    "<img src=\"23.jpg\" width=\"1000\" />"
   ]
  },
  {
   "cell_type": "markdown",
   "metadata": {},
   "source": [
    "생성하면 아래 그림처럼 role이 셋팅된 것을 확인할 수 있다."
   ]
  },
  {
   "cell_type": "markdown",
   "metadata": {},
   "source": [
    "<img src=\"24.jpg\" width=\"1000\" />"
   ]
  },
  {
   "cell_type": "markdown",
   "metadata": {},
   "source": [
    "step 2-6) View unicorn status on the dashboard\n",
    "\n",
    "브라우저에서 https://dataprocessing.wildrydes.com/dashboard.html 로 접속하면 아래 그림과 같은 하면이 전시가 되면서 identity pool ID를 입력하라고 나오는데 아까 메모해 두었던 identity pool ID를 넣어주고 start를 클릭한다."
   ]
  },
  {
   "cell_type": "markdown",
   "metadata": {},
   "source": [
    "<img src=\"25.jpg\" width=\"1000\" />"
   ]
  },
  {
   "cell_type": "markdown",
   "metadata": {},
   "source": [
    "그러면 아래 그림과 같이 유니콘이 실시간으로 이동하는 화면이 전시가 될 것이다."
   ]
  },
  {
   "cell_type": "markdown",
   "metadata": {},
   "source": [
    "<img src=\"26.jpg\" width=\"1000\" />"
   ]
  },
  {
   "cell_type": "markdown",
   "metadata": {},
   "source": [
    "step 2-7) Experiment with the producer\n",
    "\n",
    "cloud9 콘솔로 돌아와서 컨트롤 + c 명령어로 producer를 중단했다가 다시 실행했을때 정상적으로 유니콘이 사라졌다 다시 움직이는지 확인한다."
   ]
  },
  {
   "cell_type": "markdown",
   "metadata": {},
   "source": [
    "<img src=\"27.jpg\" width=\"1000\" />"
   ]
  },
  {
   "cell_type": "markdown",
   "metadata": {},
   "source": [
    "그리고 아래 그림과 같이 터미널을 하나 더 띄워서 ./producer -name Bucephalus 명령어를 실행해서 시각화 대시보드에 다른 유니콘 하나를 더 띄워본다."
   ]
  },
  {
   "cell_type": "markdown",
   "metadata": {},
   "source": [
    "<img src=\"28.jpg\" width=\"1000\" />"
   ]
  },
  {
   "cell_type": "markdown",
   "metadata": {},
   "source": [
    "<img src=\"29.jpg\" width=\"1000\" />"
   ]
  },
  {
   "cell_type": "markdown",
   "metadata": {},
   "source": [
    "#### step 3) Aggregate data\n",
    "\n",
    "step 3) 에서 구현하고자 하는 아키텍처 부분"
   ]
  },
  {
   "cell_type": "markdown",
   "metadata": {},
   "source": [
    "<img src=\"30.jpg\" width=\"1000\" />"
   ]
  },
  {
   "cell_type": "markdown",
   "metadata": {},
   "source": [
    "step 3-1) Create an Amazon Kinesis stream\n",
    "\n",
    "키네시스 콘솔로 이동해서 create data streams 클릭, 아래 그림과 같이 세팅 후 생성"
   ]
  },
  {
   "cell_type": "markdown",
   "metadata": {},
   "source": [
    "<img src=\"31.jpg\" width=\"1000\" />"
   ]
  },
  {
   "cell_type": "markdown",
   "metadata": {},
   "source": [
    "아래 그림과 같이 생성결과를 확인할 수 있다."
   ]
  },
  {
   "cell_type": "markdown",
   "metadata": {},
   "source": [
    "<img src=\"32.jpg\" width=\"1000\" />"
   ]
  },
  {
   "cell_type": "markdown",
   "metadata": {},
   "source": [
    "step 3-2) Create an Amazon Kinesis Data Analytics application\n",
    "\n",
    "대시보드로 이동해서 create analytics를 클릭한다.\n",
    "\n",
    "그리고 아래 그림과 같이 세팅 후 create application을 클릭한다."
   ]
  },
  {
   "cell_type": "markdown",
   "metadata": {},
   "source": [
    "<img src=\"33.jpg\" width=\"1000\" />"
   ]
  },
  {
   "cell_type": "markdown",
   "metadata": {},
   "source": [
    "그리고 아래 그림과 같은 화면이 나오면 connect streaming data를 클릭한다."
   ]
  },
  {
   "cell_type": "markdown",
   "metadata": {},
   "source": [
    "<img src=\"34.jpg\" width=\"1000\" />"
   ]
  },
  {
   "cell_type": "markdown",
   "metadata": {},
   "source": [
    "그리고 아래 그림과 같이 셋팅해준다."
   ]
  },
  {
   "cell_type": "markdown",
   "metadata": {},
   "source": [
    "<img src=\"35.jpg\" width=\"1000\" />"
   ]
  },
  {
   "cell_type": "markdown",
   "metadata": {},
   "source": [
    "이 셋팅화면 하단에 discover schema를 클릭해서 아래 그림과 같이 전시가 되는지 확인한다."
   ]
  },
  {
   "cell_type": "markdown",
   "metadata": {},
   "source": [
    "<img src=\"36.jpg\" width=\"1000\" />"
   ]
  },
  {
   "cell_type": "markdown",
   "metadata": {},
   "source": [
    "그리고 하단에 save and continue를 클릭한다."
   ]
  },
  {
   "cell_type": "markdown",
   "metadata": {},
   "source": [
    "<img src=\"37.jpg\" width=\"1000\" />"
   ]
  },
  {
   "cell_type": "markdown",
   "metadata": {},
   "source": [
    "세이브 엔 컨티뉴를 누르면 아래 그림과 같은 화면이 전시되는데 여기서 go to SQL editor를 클릭한다."
   ]
  },
  {
   "cell_type": "markdown",
   "metadata": {},
   "source": [
    "<img src=\"38.jpg\" width=\"1000\" />"
   ]
  },
  {
   "cell_type": "markdown",
   "metadata": {},
   "source": [
    "아래 그림과 같은 화면이 전시되면 yes, start application 클릭"
   ]
  },
  {
   "cell_type": "markdown",
   "metadata": {},
   "source": [
    "<img src=\"39.jpg\" width=\"1000\" />"
   ]
  },
  {
   "cell_type": "markdown",
   "metadata": {},
   "source": [
    "그리고 아래 그림과 같이 쿼리 화면에 다음과 같은 내용을 복붙한다."
   ]
  },
  {
   "cell_type": "code",
   "execution_count": null,
   "metadata": {},
   "outputs": [],
   "source": [
    "CREATE OR REPLACE STREAM \"DESTINATION_SQL_STREAM\" (\n",
    "  \"Name\"                VARCHAR(16),\n",
    "  \"StatusTime\"          TIMESTAMP,\n",
    "  \"Distance\"            SMALLINT,\n",
    "  \"MinMagicPoints\"      SMALLINT,\n",
    "  \"MaxMagicPoints\"      SMALLINT,\n",
    "  \"MinHealthPoints\"     SMALLINT,\n",
    "  \"MaxHealthPoints\"     SMALLINT\n",
    ");\n",
    "\n",
    "CREATE OR REPLACE PUMP \"STREAM_PUMP\" AS\n",
    "  INSERT INTO \"DESTINATION_SQL_STREAM\"\n",
    "    SELECT STREAM \"Name\", \"ROWTIME\", SUM(\"Distance\"), MIN(\"MagicPoints\"),\n",
    "                  MAX(\"MagicPoints\"), MIN(\"HealthPoints\"), MAX(\"HealthPoints\")\n",
    "    FROM \"SOURCE_SQL_STREAM_001\"\n",
    "    GROUP BY FLOOR(\"SOURCE_SQL_STREAM_001\".\"ROWTIME\" TO MINUTE), \"Name\";"
   ]
  },
  {
   "cell_type": "markdown",
   "metadata": {},
   "source": [
    "그리고 save and run SQL을 클릭한다."
   ]
  },
  {
   "cell_type": "markdown",
   "metadata": {},
   "source": [
    "<img src=\"40.jpg\" width=\"1000\" />"
   ]
  },
  {
   "cell_type": "markdown",
   "metadata": {},
   "source": [
    "그러면 아래 그림과 같이 집계된 결과가 전시된다."
   ]
  },
  {
   "cell_type": "markdown",
   "metadata": {},
   "source": [
    "<img src=\"41.jpg\" width=\"1000\" />"
   ]
  },
  {
   "cell_type": "markdown",
   "metadata": {},
   "source": [
    "화면 상단에 wildrydes를 클릭해서 아래 그림과 같은 콘솔화면으로 빠져나온다.\n",
    "\n",
    "그런 다음에 connect to a destination을 클릭한다."
   ]
  },
  {
   "cell_type": "markdown",
   "metadata": {},
   "source": [
    "<img src=\"43.jpg\" width=\"1000\" />"
   ]
  },
  {
   "cell_type": "markdown",
   "metadata": {},
   "source": [
    "아래 그림과 같이 설정 셋팅을 해준다."
   ]
  },
  {
   "cell_type": "markdown",
   "metadata": {},
   "source": [
    "<img src=\"42.jpg\" width=\"1000\" />"
   ]
  },
  {
   "cell_type": "markdown",
   "metadata": {},
   "source": [
    "step 3-3) Read messages from the stream\n",
    "\n",
    "cloud9 콘솔로 돌아가서 아래 그림과 같이 ./consumer -stream wildrydes-summary 명령어를 실행해서 데이터가 잘 전시되는지 확인한다."
   ]
  },
  {
   "cell_type": "markdown",
   "metadata": {},
   "source": [
    "<img src=\"44.jpg\" width=\"1000\" />"
   ]
  },
  {
   "cell_type": "markdown",
   "metadata": {},
   "source": [
    "step 3-4) Experiment with the producer\n",
    "\n",
    "새로운 콘솔 터미널을 열어서 아래 그림과 같이 ./producer -name Bucephalus 명령어를 실행한다."
   ]
  },
  {
   "cell_type": "markdown",
   "metadata": {},
   "source": [
    "<img src=\"45.jpg\" width=\"1000\" />"
   ]
  },
  {
   "cell_type": "markdown",
   "metadata": {},
   "source": [
    "#### step 4) Process streaming data\n",
    "\n",
    "step 4) 에서 구현하고자 하는 아키텍처"
   ]
  },
  {
   "cell_type": "markdown",
   "metadata": {},
   "source": [
    "<img src=\"46.jpg\" width=\"1000\" />"
   ]
  },
  {
   "cell_type": "markdown",
   "metadata": {},
   "source": [
    "step 4-1) Create an Amazon DynamoDB tables\n",
    "\n",
    "DynamoDB 서비스 콘솔로 접속 -> create table 클릭 -> 아래 그림과 같이 셋팅 및 생성"
   ]
  },
  {
   "cell_type": "markdown",
   "metadata": {},
   "source": [
    "<img src=\"47.jpg\" width=\"1000\" />"
   ]
  },
  {
   "cell_type": "markdown",
   "metadata": {},
   "source": [
    "생성후 overview 메뉴에서 하단에 ARN 주소 확인, 메모장에 임시기록"
   ]
  },
  {
   "cell_type": "markdown",
   "metadata": {},
   "source": [
    "<img src=\"48.jpg\" width=\"1000\" />"
   ]
  },
  {
   "cell_type": "markdown",
   "metadata": {},
   "source": [
    "step 4-2) Create an IAM role for your Lambda function\n",
    "\n",
    "IAM 서비스 콘솔에 접속 -> 좌측 메뉴에서 policies 클릭 -> create policy 클릭"
   ]
  },
  {
   "cell_type": "markdown",
   "metadata": {},
   "source": [
    "<img src=\"49.jpg\" width=\"1000\" />"
   ]
  },
  {
   "cell_type": "markdown",
   "metadata": {},
   "source": [
    "아래 그림과 같이 서비스는 다이나모 디비로 설정, actions는 BatchWriteItem를 검색하여 설정, 그리고 리소스에서 table에 add arn 클릭"
   ]
  },
  {
   "cell_type": "markdown",
   "metadata": {},
   "source": [
    "<img src=\"50.jpg\" width=\"1000\" />"
   ]
  },
  {
   "cell_type": "markdown",
   "metadata": {},
   "source": [
    "아래 그림과 같은 화면에서 지역, 아이디고유번호,테이블이름 기입(메모장에 기록해둔 다이나모디비 arn 주소 참고할 것) 그리고 add 클릭"
   ]
  },
  {
   "cell_type": "markdown",
   "metadata": {},
   "source": [
    "<img src=\"51.jpg\" width=\"1000\" />"
   ]
  },
  {
   "cell_type": "markdown",
   "metadata": {},
   "source": [
    "add를 클릭하면 아래 그림과 같은 화면이 전시되는데 우측하단에 review policy 클릭"
   ]
  },
  {
   "cell_type": "markdown",
   "metadata": {},
   "source": [
    "<img src=\"52.jpg\" width=\"1000\" />"
   ]
  },
  {
   "cell_type": "markdown",
   "metadata": {},
   "source": [
    "그러면 아래 그림과 같은 화면이 전시되는데 Name에 WildRydesStreamProcessorRole 기입 후 create policy 클릭"
   ]
  },
  {
   "cell_type": "markdown",
   "metadata": {},
   "source": [
    "<img src=\"53.jpg\" width=\"1000\" />"
   ]
  },
  {
   "cell_type": "markdown",
   "metadata": {},
   "source": [
    "IAM 콘솔의 좌측메뉴에서 roles 클릭 -> create role 클릭 -> 아래 그림과 같이 설정 -> 우측하단에 next : permission 클릭"
   ]
  },
  {
   "cell_type": "markdown",
   "metadata": {},
   "source": [
    "<img src=\"54.jpg\" width=\"1000\" />"
   ]
  },
  {
   "cell_type": "markdown",
   "metadata": {},
   "source": [
    "그러면 아래 그림과 같은 화면이 전시되는데 filter policies창에 AWSLambdaKinesisExecutionRole 을 검색하여 나온 결과의 체크박스 체크"
   ]
  },
  {
   "cell_type": "markdown",
   "metadata": {},
   "source": [
    "<img src=\"55.jpg\" width=\"1000\" />"
   ]
  },
  {
   "cell_type": "markdown",
   "metadata": {},
   "source": [
    " filter policies창에 AWSLambdaKinesisExecutionRole를 지우고 다시 WildRydesDynamoDBWritePolicy 를 입력하여 마찬가지로 검색결과로 나온 것의 체크박스 체크 그리고 next : tags 클릭"
   ]
  },
  {
   "cell_type": "markdown",
   "metadata": {},
   "source": [
    "<img src=\"56.jpg\" width=\"1000\" />"
   ]
  },
  {
   "cell_type": "markdown",
   "metadata": {},
   "source": [
    "그러면 아래 그림과 같은 화면이 전시되는데 우측하단에 create role 클릭"
   ]
  },
  {
   "cell_type": "markdown",
   "metadata": {},
   "source": [
    "<img src=\"57.jpg\" width=\"1000\" />"
   ]
  },
  {
   "cell_type": "markdown",
   "metadata": {},
   "source": [
    "step 4-3) Create a Lambda function to process the stream\n",
    "\n",
    "AWS 람다 콘솔로 접속 -> create function 클릭 -> 아래 그림과 같이 설정"
   ]
  },
  {
   "cell_type": "markdown",
   "metadata": {},
   "source": [
    "<img src=\"58.jpg\" width=\"1000\" />"
   ]
  },
  {
   "cell_type": "markdown",
   "metadata": {},
   "source": [
    "아래 그림과 같이 하단 코드에디터에 다음 코드들을 입력"
   ]
  },
  {
   "cell_type": "markdown",
   "metadata": {},
   "source": [
    "<img src=\"59.jpg\" width=\"1000\" />"
   ]
  },
  {
   "cell_type": "code",
   "execution_count": null,
   "metadata": {},
   "outputs": [],
   "source": [
    "'use strict';\n",
    "\n",
    "const AWS = require('aws-sdk');\n",
    "const dynamoDB = new AWS.DynamoDB.DocumentClient();\n",
    "const tableName = process.env.TABLE_NAME;\n",
    "\n",
    "exports.handler = function(event, context, callback) {\n",
    "  const requestItems = buildRequestItems(event.Records);\n",
    "  const requests = buildRequests(requestItems);\n",
    "\n",
    "  Promise.all(requests)\n",
    "    .then(() => callback(null, `Delivered ${event.Records.length} records`))\n",
    "    .catch(callback);\n",
    "};\n",
    "\n",
    "function buildRequestItems(records) {\n",
    "  return records.map((record) => {\n",
    "    const json = Buffer.from(record.kinesis.data, 'base64').toString('ascii');\n",
    "    const item = JSON.parse(json);\n",
    "\n",
    "    return {\n",
    "      PutRequest: {\n",
    "        Item: item,\n",
    "      },\n",
    "    };\n",
    "  });\n",
    "}\n",
    "\n",
    "function buildRequests(requestItems) {\n",
    "  const requests = [];\n",
    "\n",
    "  while (requestItems.length > 0) {\n",
    "    const request = batchWrite(requestItems.splice(0, 25));\n",
    "\n",
    "    requests.push(request);\n",
    "  }\n",
    "\n",
    "  return requests;\n",
    "}\n",
    "\n",
    "function batchWrite(requestItems, attempt = 0) {\n",
    "  const params = {\n",
    "    RequestItems: {\n",
    "      [tableName]: requestItems,\n",
    "    },\n",
    "  };\n",
    "\n",
    "  let delay = 0;\n",
    "\n",
    "  if (attempt > 0) {\n",
    "    delay = 50 * Math.pow(2, attempt);\n",
    "  }\n",
    "\n",
    "  return new Promise(function(resolve, reject) {\n",
    "    setTimeout(function() {\n",
    "      dynamoDB.batchWrite(params).promise()\n",
    "        .then(function(data) {\n",
    "          if (data.UnprocessedItems.hasOwnProperty(tableName)) {\n",
    "            return batchWrite(data.UnprocessedItems[tableName], attempt + 1);\n",
    "          }\n",
    "        })\n",
    "        .then(resolve)\n",
    "        .catch(reject);\n",
    "    }, delay);\n",
    "  });\n",
    "}"
   ]
  },
  {
   "cell_type": "markdown",
   "metadata": {},
   "source": [
    "그리고 더 하단으로 스크롤을 내려서 아래 그림과 같이 설정"
   ]
  },
  {
   "cell_type": "markdown",
   "metadata": {},
   "source": [
    "<img src=\"60.jpg\" width=\"1000\" />"
   ]
  },
  {
   "cell_type": "markdown",
   "metadata": {},
   "source": [
    "다시 가장 상단으로 스크롤을 올리면 아래 그림과 같은 화면에서 add trigger 클릭"
   ]
  },
  {
   "cell_type": "markdown",
   "metadata": {},
   "source": [
    "<img src=\"61.jpg\" width=\"1000\" />"
   ]
  },
  {
   "cell_type": "markdown",
   "metadata": {},
   "source": [
    "아래 그림과 같이 설정 후 add 클릭 후 빠져나온 화면에서 우측 상단에 save 클릭"
   ]
  },
  {
   "cell_type": "markdown",
   "metadata": {},
   "source": [
    "<img src=\"62.jpg\" width=\"1000\" />"
   ]
  },
  {
   "cell_type": "markdown",
   "metadata": {},
   "source": [
    "step 4-4) Monitor the Lambda function\n",
    "\n",
    "다시 클라우드9 콘솔로 돌아와서 터미널을 하나 새로 열고 ./producer -name Rocinante 명령어를 실행해서 잘 작동하는지 확인한다.\n"
   ]
  },
  {
   "cell_type": "markdown",
   "metadata": {},
   "source": [
    "<img src=\"63.jpg\" width=\"1000\" />"
   ]
  },
  {
   "cell_type": "markdown",
   "metadata": {},
   "source": [
    "step 4-5) Query the DynamoDB table\n",
    "\n",
    "다이나모디비 서비스 콘솔로 접속 -> 왼쪽에서 Tables 클릭 -> UnicornSensorData 선택 -> items 클릭하면 아래 그림과 같이 결과가 나오는지 확인한다."
   ]
  },
  {
   "cell_type": "markdown",
   "metadata": {},
   "source": [
    "<img src=\"64.jpg\" width=\"1000\" />"
   ]
  },
  {
   "cell_type": "markdown",
   "metadata": {},
   "source": [
    "#### step 5) Store & query Data\n",
    "\n",
    "step 5) 에서 구현하고자 하는 아키텍처 부분\n"
   ]
  },
  {
   "cell_type": "markdown",
   "metadata": {},
   "source": [
    "<img src=\"65.jpg\" width=\"1000\" />"
   ]
  },
  {
   "cell_type": "markdown",
   "metadata": {},
   "source": [
    "step 5-1)  Create an Amazon S3 bucket\n",
    "\n",
    "s3 콘솔로 접속해서 아래 그림과 같이 s3 버킷 하나를 생성해준다."
   ]
  },
  {
   "cell_type": "markdown",
   "metadata": {},
   "source": [
    "<img src=\"66.jpg\" width=\"1000\" />"
   ]
  },
  {
   "cell_type": "markdown",
   "metadata": {},
   "source": [
    "step 5-2) Create an Amazon Kinesis Data Firehose delivery stream\n",
    "\n",
    "키네시스 콘솔로 접속 후 create delivery stream 클릭, 아래 그림과 같이 설정 후 next 클릭"
   ]
  },
  {
   "cell_type": "markdown",
   "metadata": {},
   "source": [
    "<img src=\"67.jpg\" width=\"1000\" />"
   ]
  },
  {
   "cell_type": "markdown",
   "metadata": {},
   "source": [
    "아래 그림과 같이 설정 후 next 클릭"
   ]
  },
  {
   "cell_type": "markdown",
   "metadata": {},
   "source": [
    "<img src=\"68.jpg\" width=\"1000\" />"
   ]
  },
  {
   "cell_type": "markdown",
   "metadata": {},
   "source": [
    "아래 그림과 같이 설정 후 next"
   ]
  },
  {
   "cell_type": "markdown",
   "metadata": {},
   "source": [
    "<img src=\"69.jpg\" width=\"1000\" />"
   ]
  },
  {
   "cell_type": "markdown",
   "metadata": {},
   "source": [
    "아래 그림과 같이 설정 후 create new or choose 클릭"
   ]
  },
  {
   "cell_type": "markdown",
   "metadata": {},
   "source": [
    "<img src=\"70.jpg\" width=\"1000\" />"
   ]
  },
  {
   "cell_type": "markdown",
   "metadata": {},
   "source": [
    "<img src=\"71.jpg\" width=\"1000\" />"
   ]
  },
  {
   "cell_type": "markdown",
   "metadata": {},
   "source": [
    "아래 그림과 같은 화면이 나오면 allow 클릭"
   ]
  },
  {
   "cell_type": "markdown",
   "metadata": {},
   "source": [
    "<img src=\"72.jpg\" width=\"1000\" />"
   ]
  },
  {
   "cell_type": "markdown",
   "metadata": {},
   "source": [
    "그러면 아래 그림과 같은 화면이 전시가 되는것을 확인하고 next 클릭"
   ]
  },
  {
   "cell_type": "markdown",
   "metadata": {},
   "source": [
    "<img src=\"73.jpg\" width=\"1000\" />"
   ]
  },
  {
   "cell_type": "markdown",
   "metadata": {},
   "source": [
    "아래 그림과 같이 delivery streams가 생성된 것을 확인"
   ]
  },
  {
   "cell_type": "markdown",
   "metadata": {},
   "source": [
    "<img src=\"74.jpg\" width=\"1000\" />"
   ]
  },
  {
   "cell_type": "markdown",
   "metadata": {},
   "source": [
    "step 5-3) Create an Amazon Athena table\n",
    "\n",
    "아테나 콘솔로 접속후 아래 그림과 같이 다음 쿼리를 돌려본다."
   ]
  },
  {
   "cell_type": "markdown",
   "metadata": {},
   "source": [
    "<img src=\"75.jpg\" width=\"1000\" />"
   ]
  },
  {
   "cell_type": "code",
   "execution_count": null,
   "metadata": {},
   "outputs": [],
   "source": [
    "CREATE EXTERNAL TABLE IF NOT EXISTS wildrydes (\n",
    "       Name string,\n",
    "       StatusTime timestamp,\n",
    "       Latitude float,\n",
    "       Longitude float,\n",
    "       Distance float,\n",
    "       HealthPoints int,\n",
    "       MagicPoints int\n",
    "     )\n",
    "     ROW FORMAT SERDE 'org.apache.hive.hcatalog.data.JsonSerDe'\n",
    "     LOCATION 's3://YOUR_BUCKET_NAME_HERE/';"
   ]
  },
  {
   "cell_type": "markdown",
   "metadata": {},
   "source": [
    "step 5-4) Explore the batched data files\n",
    "\n",
    "아래 그림과 같이 아까 생성한 s3 버킷으로 이동해서 배치 데이터별로 잘 데이터가 생성되었는지 확인한다."
   ]
  },
  {
   "cell_type": "markdown",
   "metadata": {},
   "source": [
    "<img src=\"76.jpg\" width=\"1000\" />"
   ]
  },
  {
   "cell_type": "markdown",
   "metadata": {},
   "source": [
    "step 5-5) Query the data files\n",
    "\n",
    "아래 그림과 같이 다시 아테나 콘솔로 돌아와서 다음과 같은 쿼리를 날려서 결과를 확인해본다.\n",
    "\n",
    "`SELECT * FROM wildrydes`"
   ]
  },
  {
   "cell_type": "markdown",
   "metadata": {},
   "source": [
    "<img src=\"77.jpg\" width=\"1000\" />"
   ]
  },
  {
   "cell_type": "markdown",
   "metadata": {},
   "source": [
    "step 5-6) 실습이 종료되면 사용했던 자원들에 대해 모두 terminate한다."
   ]
  }
 ],
 "metadata": {
  "kernelspec": {
   "display_name": "Python 3",
   "language": "python",
   "name": "python3"
  },
  "language_info": {
   "codemirror_mode": {
    "name": "ipython",
    "version": 3
   },
   "file_extension": ".py",
   "mimetype": "text/x-python",
   "name": "python",
   "nbconvert_exporter": "python",
   "pygments_lexer": "ipython3",
   "version": "3.7.4"
  }
 },
 "nbformat": 4,
 "nbformat_minor": 2
}
