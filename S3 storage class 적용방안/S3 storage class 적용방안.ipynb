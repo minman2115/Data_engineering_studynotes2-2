{
 "cells": [
  {
   "cell_type": "markdown",
   "metadata": {},
   "source": [
    ".\n",
    "\n",
    "### [S3 스토리지 클래스 옵션]\n",
    "\n",
    "데이터 접근빈도에 따른 S3 Class 옵션 기초개념\n",
    "\n",
    "![11111](https://user-images.githubusercontent.com/41605276/79067527-e8587180-7cfa-11ea-95ca-a14eda74b9ff.png)\n",
    "\n",
    "### [S3 스토리지 클래스 적용 시 의사결정 권고사항]\n",
    "\n",
    "![s3 class 2](https://user-images.githubusercontent.com/41605276/85220566-7c277780-b3e7-11ea-8815-14a4807b56bb.png)"
   ]
  }
 ],
 "metadata": {
  "kernelspec": {
   "display_name": "Python 3",
   "language": "python",
   "name": "python3"
  },
  "language_info": {
   "codemirror_mode": {
    "name": "ipython",
    "version": 3
   },
   "file_extension": ".py",
   "mimetype": "text/x-python",
   "name": "python",
   "nbconvert_exporter": "python",
   "pygments_lexer": "ipython3",
   "version": "3.7.4"
  }
 },
 "nbformat": 4,
 "nbformat_minor": 2
}
