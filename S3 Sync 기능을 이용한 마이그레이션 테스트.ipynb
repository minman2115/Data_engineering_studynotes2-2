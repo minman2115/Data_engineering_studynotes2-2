{
 "cells": [
  {
   "cell_type": "markdown",
   "metadata": {},
   "source": [
    ".\n",
    "\n",
    "#### 1. 개요\n",
    "\n",
    "- S3 Sync 기능을 이용한 마이그레이션 테스트\n",
    "\n",
    "\n",
    "#### 2. 활용가능한 시나리오 예시\n",
    "\n",
    "1) 목적\n",
    "\n",
    "AS-IS 계정에 있는 S3의 모든 버킷과 데이터를 같은 리전의 TO-BE계정으로 데이터 마이그레이션\n",
    "\n",
    "(S3 to S3 Migration)\n",
    "\n",
    "2) 전제조건\n",
    "\n",
    "\n",
    "- S3 총 데이터 규모가 수십TB 단위\n",
    "\n",
    "\n",
    "- AS-IS 계정은 현재 서비스 중이기 때문에 AS-IS 계정의 네트워크나 config 설정을 건드는 것을 최소화해야함\n",
    "\n",
    "\n",
    "- 1차 베이스라인 데이터 백업 후 디데이까지 일배치로 AS-IS 계정의 s3 데이터와 TO-BE 계정의 s3 데이터 간 sync를 맞추는 작업 필요\n",
    "\n",
    "\n",
    "#### 3. S3 Sync 기능 테스트\n",
    "\n",
    "STEP 1) TO-BE 계정의 Destination 버킷에 대하여 AS-IS 계정이 접근할 수 있도록 버킷권한 설정\n",
    "\n",
    "- TO-BE 계정의 Destination 버킷에서 아래와 같이 버킷권한 설정\n",
    "\n",
    "![22](https://user-images.githubusercontent.com/41605276/76311599-abbce300-6314-11ea-8030-31f2abf3b99c.png)"
   ]
  },
  {
   "cell_type": "code",
   "execution_count": null,
   "metadata": {},
   "outputs": [],
   "source": [
    "{\n",
    "    \"Version\": \"2012-10-17\",\n",
    "    \"Statement\": [\n",
    "        {\n",
    "            \"Sid\": \"DelegateS3Access\",\n",
    "            \"Effect\": \"Allow\",\n",
    "            \"Principal\": {\n",
    "                \"AWS\": \"arn:aws:iam::111111111111:user/pms-s3synctest-user\"\n",
    "            },\n",
    "            \"Action\": [\n",
    "                \"s3:ListBucket\",\n",
    "                \"s3:GetObject\",\n",
    "                \"s3:PutObject\",\n",
    "                \"s3:DeleteObject\",\n",
    "                \"s3:GetObjectAcl\"\n",
    "            ],\n",
    "            \"Resource\": [\n",
    "                \"arn:aws:s3:::minman2\",\n",
    "                \"arn:aws:s3:::minman2/*\"\n",
    "            ]\n",
    "        }\n",
    "    ]\n",
    "}"
   ]
  },
  {
   "cell_type": "markdown",
   "metadata": {},
   "source": [
    "STEP 2) AS-IS 계정에서 아래와 같이 사용자계정 inline 정책을 만들어서 부여\n",
    "\n",
    "![asis](https://user-images.githubusercontent.com/41605276/77998683-6ec09b00-736c-11ea-8a5a-440b34ea4bb6.png)"
   ]
  },
  {
   "cell_type": "markdown",
   "metadata": {},
   "source": [
    "** STEP 1 ~ 2) 참고자료 : https://aws.amazon.com/ko/premiumsupport/knowledge-center/copy-s3-objects-account/\n",
    "\n",
    "STEP 3) TO-BE 계정에서 EC2(amazon linux2) 생성 후 task 부여환경 구성\n",
    "\n",
    "step 3-1) ec2 생성 및 ssh 접속\n",
    "\n",
    "step 3-2) 파이썬 3.7 및 nmon 설치"
   ]
  },
  {
   "cell_type": "code",
   "execution_count": null,
   "metadata": {},
   "outputs": [],
   "source": [
    "sudo yum update -y\n",
    "sudo yum install python37 python37-pip -y\n",
    "sudo amazon-linux-extras install epel -y\n",
    "sudo yum update -y\n",
    "sudo yum install nmon -y\n",
    "sudo pip3 install boto3"
   ]
  },
  {
   "cell_type": "markdown",
   "metadata": {},
   "source": [
    "step 3-3) os 파이썬 기본버전 변경 (2.7 -> 3.7)"
   ]
  },
  {
   "cell_type": "code",
   "execution_count": null,
   "metadata": {},
   "outputs": [],
   "source": [
    "sudo alternatives --install /usr/bin/python python /usr/bin/python2.7 1\n",
    "sudo alternatives --install /usr/bin/python python /usr/bin/python3.7 2"
   ]
  },
  {
   "cell_type": "markdown",
   "metadata": {},
   "source": [
    "step 3-4) 주피터 설치"
   ]
  },
  {
   "cell_type": "code",
   "execution_count": null,
   "metadata": {},
   "outputs": [],
   "source": [
    "sudo pip3 install jupyter"
   ]
  },
  {
   "cell_type": "markdown",
   "metadata": {},
   "source": [
    "step 3-5) 주피터 설정파일 생성"
   ]
  },
  {
   "cell_type": "code",
   "execution_count": null,
   "metadata": {},
   "outputs": [],
   "source": [
    "jupyter notebook --generate-config"
   ]
  },
  {
   "cell_type": "markdown",
   "metadata": {},
   "source": [
    "step 3-6) 설정파일 내 설정 변경"
   ]
  },
  {
   "cell_type": "code",
   "execution_count": null,
   "metadata": {},
   "outputs": [],
   "source": [
    "sudo vi /home/ec2-user/.jupyter/jupyter_notebook_config.py"
   ]
  },
  {
   "cell_type": "markdown",
   "metadata": {},
   "source": [
    "step 3-6-1) 외부 접속 허용"
   ]
  },
  {
   "cell_type": "code",
   "execution_count": null,
   "metadata": {},
   "outputs": [],
   "source": [
    "##  Takes precedence over allow_origin_pat.\n",
    "c.NotebookApp.allow_origin = '*'"
   ]
  },
  {
   "cell_type": "markdown",
   "metadata": {},
   "source": [
    "step 3-6-2) 작업 경로 설정"
   ]
  },
  {
   "cell_type": "code",
   "execution_count": null,
   "metadata": {},
   "outputs": [],
   "source": [
    "## The directory to use for notebooks and kernels.\n",
    "c.NotebookApp.notebook_dir = '/home/ec2-user'"
   ]
  },
  {
   "cell_type": "markdown",
   "metadata": {},
   "source": [
    "step 3-6-3) 시작시 브라우저 실행 안함설정"
   ]
  },
  {
   "cell_type": "code",
   "execution_count": null,
   "metadata": {},
   "outputs": [],
   "source": [
    "## Whether to open in a browser after starting.\n",
    "c.NotebookApp.open_browser = False"
   ]
  },
  {
   "cell_type": "markdown",
   "metadata": {},
   "source": [
    "step 3-6-4) 접속 암호 설정\n",
    "\n",
    "암호 설정을 위해 아래와 같이 암호 생성\n",
    "\n",
    "리눅스 콘솔에서 python 실행\n",
    "\n",
    "아래와 같이 입력"
   ]
  },
  {
   "cell_type": "code",
   "execution_count": null,
   "metadata": {},
   "outputs": [],
   "source": [
    "Python 3.6.1 |Continuum Analytics, Inc.| (default, May 11 2017, 13:25:24) [MSC v.1900 64 bit (AMD64)] on win32\n",
    "Type \"help\", \"copyright\", \"credits\" or \"license\" for more information.\n",
    ">>> from notebook.auth import passwd\n",
    ">>> passwd()\n",
    "Enter password: 1234\n",
    "Verify password: 1234\n",
    "'sha1:**********************'"
   ]
  },
  {
   "cell_type": "markdown",
   "metadata": {},
   "source": [
    "step 3-6-5) 다시 설정파일로 들어가서 비밀번호 설정부분 변경"
   ]
  },
  {
   "cell_type": "code",
   "execution_count": null,
   "metadata": {},
   "outputs": [],
   "source": [
    "#  The string should be of the form type:salt:hashed-password.\n",
    "c.NotebookApp.password = 'sha1:***********************'"
   ]
  },
  {
   "cell_type": "markdown",
   "metadata": {},
   "source": [
    "step 3-6-6) 접속포트 설정\n",
    "\n",
    "- 포트설정과 동시에 ec2 보안그룹에서도 8800 포트를 열어준다."
   ]
  },
  {
   "cell_type": "code",
   "execution_count": null,
   "metadata": {},
   "outputs": [],
   "source": [
    "## The port the notebook server will listen on.\n",
    "c.NotebookApp.port = 8800"
   ]
  },
  {
   "cell_type": "markdown",
   "metadata": {},
   "source": [
    "step 3-7) 리눅스 콘솔에서 aws configure 설정\n",
    "\n",
    "step 3-8) 시스템 타임존 변경\n",
    "\n",
    "tzselect 명령어를 사용하여 타임존을 서울 시간으로 설정\n",
    "\n",
    "(이 방법은 로컬에만 적용된다는 것을 주의한다)"
   ]
  },
  {
   "cell_type": "code",
   "execution_count": null,
   "metadata": {},
   "outputs": [],
   "source": [
    "echo \"TZ='Asia/Seoul'; export TZ\" >> .profile\n",
    ". .profile\n",
    "date"
   ]
  },
  {
   "cell_type": "markdown",
   "metadata": {},
   "source": [
    "step 3-9) 아래와 같이 리눅스 콘솔에서 주피터 실행"
   ]
  },
  {
   "cell_type": "code",
   "execution_count": null,
   "metadata": {},
   "outputs": [],
   "source": [
    "jupyter notebook --ip=0.0.0.0 --port=8800"
   ]
  },
  {
   "cell_type": "markdown",
   "metadata": {},
   "source": [
    "아래와 같이 브라우저에서 IP주소:8800으로 접속\n",
    "\n",
    "![JYPY](https://user-images.githubusercontent.com/41605276/76313004-78c81e80-6317-11ea-9628-fe8a84e9748e.png)\n",
    "\n",
    "STEP 4) jupyter에서 노트북 생성 후 아래와 같은 코드를 작성하여 코드 실행"
   ]
  },
  {
   "cell_type": "code",
   "execution_count": 23,
   "metadata": {},
   "outputs": [
    {
     "name": "stdout",
     "output_type": "stream",
     "text": [
      "job success\n",
      "b'Runtime: 1.083536148071289 sec \\n'\n",
      "data integrity check success \n",
      "\n"
     ]
    }
   ],
   "source": [
    "import subprocess\n",
    "from datetime import datetime\n",
    "import time\n",
    "import boto3\n",
    "import math\n",
    "\n",
    "start = time.time()\n",
    "\n",
    "timestamp = datetime.now().strftime('%Y-%m-%d %H:%M:%S')+'\\n'\n",
    "start_timestamp = timestamp[0:4]+timestamp[5:7]+timestamp[8:10]\n",
    "\n",
    "source_bucket = \"k\"\n",
    "source_prefix = \"m\"\n",
    "source_s3_location = source_bucket+'/'+source_prefix\n",
    "\n",
    "destination_bucket = 'a'\n",
    "destination_prefix = 'b/d'\n",
    "destination_s3_location = destination_bucket +'/'+ destination_prefix\n",
    "task_name = \"task 3\"\n",
    "\n",
    "sync_command = f\"aws s3 sync s3://{source_s3_location}/ s3://{destination_s3_location}/ --delete --acl bucket-owner-full-control\"\n",
    "\n",
    "file_name = start_timestamp+\" \"+task_name\n",
    "\n",
    "logfile = open(\"{}.txt\".format(file_name), 'wb')\n",
    "start_time = \"start time : {}\".format(timestamp).encode()\n",
    "logfile.write(start_time)\n",
    "\n",
    "try :\n",
    "    log_record = subprocess.check_output(sync_command, stderr=subprocess.STDOUT, shell=True)\n",
    "    print(\"job success\")\n",
    "    logfile.write(log_record)\n",
    "    runtime = \"Runtime: {} sec \\n\".format(time.time()-start).encode()\n",
    "    logfile.write(runtime)\n",
    "    print(runtime)\n",
    "    \n",
    "    # check data integrity\n",
    "    client = boto3.client('s3')\n",
    "    paginator = client.get_paginator('list_objects_v2')\n",
    "    \n",
    "    operation_parameters = {'Bucket': '{}'.format(source_bucket),'Prefix': '{}/'.format(source_prefix)}\n",
    "    response_iterator = paginator.paginate(**operation_parameters)\n",
    "    source_object_list = []\n",
    "    source_folder_list = []\n",
    "\n",
    "    for page in response_iterator:\n",
    "        for content in page['Contents']:\n",
    "            if (content['Key']+','+str(content['Size']))[-3:] == '/,0':\n",
    "                source_folder_list.append(content['Key']+','+str(content['Size']))\n",
    "            else : \n",
    "                source_object_list.append(content['Key'].split('/').pop()+','+str(content['Size']))\n",
    "  \n",
    "\n",
    "    operation_parameters = {'Bucket': '{}'.format(destination_bucket),'Prefix': '{}/'.format(destination_prefix)}\n",
    "    response_iterator = paginator.paginate(**operation_parameters)\n",
    "    destination_object_list = []\n",
    "    destination_folder_list = []\n",
    "\n",
    "    for page in response_iterator:\n",
    "        for content in page['Contents']:\n",
    "            if (content['Key']+','+str(content['Size']))[-3:] == '/,0':\n",
    "                destination_folder_list.append(content['Key']+','+str(content['Size']))\n",
    "            else : \n",
    "                destination_object_list.append(content['Key'].split('/').pop()+','+str(content['Size']))\n",
    "\n",
    "    if source_object_list == destination_object_list :\n",
    "# 실시간 데이터가 유입되는 버킷은 아래와 같이 정합성 테스트\n",
    "#     if source_object_list[0:math.floor(len(source_object_list)*0.95)] == destination_object_list[0:math.floor(len(source_object_list)*0.95)] : \n",
    "\n",
    "        logfile.write(\"data integrity check success \\n\".encode())\n",
    "        logfile.write(\"{} to {} complete \\n\".format(source_s3_location,destination_s3_location).encode())\n",
    "        \n",
    "        source_folder_list_str = \"source_folder_list:\" + str(source_folder_list)+'\\n'\n",
    "        logfile.write(source_folder_list_str.encode())\n",
    "        source_object_list_str = \"source_object_list:\" + str(source_object_list)+'\\n'\n",
    "        logfile.write(source_object_list_str.encode())\n",
    "        \n",
    "        destination_folder_list_str = \"destination_folder_list:\"+str(destination_folder_list)+'\\n'\n",
    "        logfile.write(destination_folder_list_str.encode())\n",
    "        destination_object_list_str = \"destination_object_list:\"+str(destination_object_list)+'\\n'\n",
    "        logfile.write(destination_object_list_str.encode())\n",
    "        \n",
    "        source_object_list_str = \"number of source_object_list:\" + str(len(source_object_list))+'\\n'\n",
    "        logfile.write(source_object_list_str.encode())\n",
    "        destination_object_list_str = \"number of destination_object_list:\" + str(len(destination_object_list))+'\\n'\n",
    "        logfile.write(destination_object_list_str.encode())\n",
    "        \n",
    "        print(\"data integrity check success \\n\")\n",
    "    else:\n",
    "        logfile.write(\"data integrity check fail \\n\".encode())\n",
    "        \n",
    "        source_folder_list_str = \"source_folder_list:\" + str(source_folder_list)+'\\n'\n",
    "        logfile.write(source_folder_list_str.encode())\n",
    "        source_object_list_str = \"source_object_list:\" + str(source_object_list)+'\\n'\n",
    "        logfile.write(source_object_list_str.encode())\n",
    "        \n",
    "        destination_folder_list_str = \"destination_folder_list:\"+str(destination_folder_list)+'\\n'\n",
    "        logfile.write(destination_folder_list_str.encode())\n",
    "        destination_object_list_str = \"destination_object_list:\"+str(destination_object_list)+'\\n'\n",
    "        logfile.write(destination_object_list_str.encode())\n",
    "        \n",
    "        source_object_list_str = \"number of source_object_list:\" + str(len(source_object_list))+'\\n'\n",
    "        logfile.write(source_object_list_str.encode())\n",
    "        destination_object_list_str = \"number of destination_object_list:\" + str(len(destination_object_list))+'\\n'\n",
    "        logfile.write(destination_object_list_str.encode())\n",
    "        \n",
    "        print(\"data integrity check fail\")\n",
    "    \n",
    "except subprocess.CalledProcessError as e:\n",
    "    print(\"job fail\")\n",
    "    logfile.write(e.output)\n",
    "    runtime = \"Runtime: {} sec\".format(time.time()-start).encode()\n",
    "    logfile.write(runtime)\n",
    "    print(runtime)\n",
    "    \n",
    "logfile.close()"
   ]
  },
  {
   "cell_type": "markdown",
   "metadata": {},
   "source": [
    "로그파일 저장된 내용 예시\n",
    "\n",
    "![aa](https://user-images.githubusercontent.com/41605276/76387930-410ab680-63ab-11ea-9c6c-6cea8389d1e7.png)"
   ]
  }
 ],
 "metadata": {
  "kernelspec": {
   "display_name": "Python 3",
   "language": "python",
   "name": "python3"
  },
  "language_info": {
   "codemirror_mode": {
    "name": "ipython",
    "version": 3
   },
   "file_extension": ".py",
   "mimetype": "text/x-python",
   "name": "python",
   "nbconvert_exporter": "python",
   "pygments_lexer": "ipython3",
   "version": "3.7.4"
  }
 },
 "nbformat": 4,
 "nbformat_minor": 2
}
