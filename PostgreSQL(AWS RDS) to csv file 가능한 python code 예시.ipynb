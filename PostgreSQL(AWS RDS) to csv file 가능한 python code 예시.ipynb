{
 "cells": [
  {
   "cell_type": "code",
   "execution_count": null,
   "metadata": {},
   "outputs": [],
   "source": [
    "import sys\n",
    "import requests\n",
    "import base64\n",
    "import json\n",
    "import logging\n",
    "import psycopg2\n",
    "from psycopg2.extras import RealDictCursor\n",
    "import io\n",
    "sys.stdout = io.TextIOWrapper(sys.stdout.detach(), encoding = 'utf-8')\n",
    "sys.stderr = io.TextIOWrapper(sys.stderr.detach(), encoding = 'utf-8')\n",
    "\n",
    "\n",
    "connection = psycopg2.connect(user=\"xxxxxxxxxxxxxxxxxxxxxxx\",\\\n",
    "                              password=\"xxxxxxxxxxxxxxxxxxxxx\",\\\n",
    "                              host=\"xxxxxxxxxxxxxxxxxxxxxxxxx.ap-northeast-2.rds.amazonaws.com\",\\\n",
    "                              port=\"6001\",\\\n",
    "                              database=\"xxxxxxxxxxxxxxxxx\")\n",
    "cursor = connection.cursor()\n",
    "\n",
    "s = \"SELECT * FROM test1\"\n",
    "\n",
    "# Use the COPY function on the SQL we created above.\n",
    "SQL_for_file_output = \"COPY ({0}) TO STDOUT WITH CSV HEADER\".format(s)\n",
    "\n",
    "# Set up a variable to store our file path and name.\n",
    "t_path_n_file = \"test1.csv\"\n",
    "with open(\"test1.csv\", \"w\") as f_output:\n",
    "    cursor.copy_expert(SQL_for_file_output, f_output)"
   ]
  }
 ],
 "metadata": {
  "kernelspec": {
   "display_name": "Python 3",
   "language": "python",
   "name": "python3"
  },
  "language_info": {
   "codemirror_mode": {
    "name": "ipython",
    "version": 3
   },
   "file_extension": ".py",
   "mimetype": "text/x-python",
   "name": "python",
   "nbconvert_exporter": "python",
   "pygments_lexer": "ipython3",
   "version": "3.7.4"
  }
 },
 "nbformat": 4,
 "nbformat_minor": 2
}
