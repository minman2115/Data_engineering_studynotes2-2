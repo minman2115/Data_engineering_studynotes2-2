{
 "cells": [
  {
   "cell_type": "markdown",
   "metadata": {},
   "source": [
    ".\n",
    "\n",
    "Data_Engineering_TIL(20201016)\n",
    "\n",
    "실습시 참고자료 : AIrflow 공식문서\n",
    "\n",
    "** URL : https://airflow.apache.org/docs/stable/howto/write-logs.html\n",
    "\n",
    "step 0) Airflow server에 접속해서 `aws configure` 명령어를 실행하고 credencial key를 입력하여 나의 AWS 계정을 인증해준다.\n",
    "\n",
    "step 1) airflow.cfg 를 아래와 같이 수정해준다."
   ]
  },
  {
   "cell_type": "code",
   "execution_count": null,
   "metadata": {},
   "outputs": [],
   "source": [
    "[ec2-user@ip-10-1-10-227 airflow]$ ls\n",
    "airflow.cfg  airflow.db  airflow-webserver.pid  dags  logs  unittests.cfg\n",
    "\n",
    "[ec2-user@ip-10-1-10-227 airflow]$ sudo vim airflow.cfg\n",
    "[core]\n",
    "# Airflow can store logs remotely in AWS S3, Google Cloud Storage or Elastic Search.\n",
    "# Set this to True if you want to enable remote logging.\n",
    "remote_logging = True\n",
    "\n",
    "# Users must supply an Airflow connection id that provides access to the storage\n",
    "# location.\n",
    "remote_log_conn_id = MyS3Conn\n",
    "remote_base_log_folder = s3://pms-bucket-test/airflow_log/\n",
    "encrypt_s3_logs = False"
   ]
  },
  {
   "cell_type": "markdown",
   "metadata": {},
   "source": [
    "step 2) airflow의 어떤 DAG를 실행하고 아래와 같은 명령어를 실행했을때 우리가 원하는 s3에 로그가 쌓이는지 확인해본다."
   ]
  },
  {
   "cell_type": "code",
   "execution_count": null,
   "metadata": {},
   "outputs": [],
   "source": [
    "[ec2-user@ip-10-1-10-227 airflow]$ aws s3 ls s3://pms-bucket-test/airflow_log/ --recursive\n",
    "2020-10-16 05:22:17       2132 airflow_log/emr_job_flow_test/actual_step/2020-10-16T05:22:03.655192+00:00/1.log\n",
    "2020-10-16 05:22:12       2216 airflow_log/emr_job_flow_test/create_job_flow/2020-10-16T05:22:03.655192+00:00/1.log\n",
    "2020-10-16 05:22:17       2110 airflow_log/emr_job_flow_test/pre_step/2020-10-16T05:22:03.655192+00:00/1.log"
   ]
  }
 ],
 "metadata": {
  "kernelspec": {
   "display_name": "Python 3",
   "language": "python",
   "name": "python3"
  },
  "language_info": {
   "codemirror_mode": {
    "name": "ipython",
    "version": 3
   },
   "file_extension": ".py",
   "mimetype": "text/x-python",
   "name": "python",
   "nbconvert_exporter": "python",
   "pygments_lexer": "ipython3",
   "version": "3.7.4"
  }
 },
 "nbformat": 4,
 "nbformat_minor": 2
}
