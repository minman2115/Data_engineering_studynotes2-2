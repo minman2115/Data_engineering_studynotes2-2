{
 "cells": [
  {
   "cell_type": "markdown",
   "metadata": {},
   "source": [
    ".\n",
    "\n",
    "Data_Engineering_TIL(20201108)\n",
    "\n",
    "#### [문제상황]\n",
    "\n",
    "주피터 노트북을 사용중에 있는데 어떤 셀을 실행했을때 아래와 같은 error 발생함\n",
    "\n",
    "\n",
    "IOPub data rate exceeded.\n",
    "\n",
    "The notebook server will temporarily stop sending output\n",
    "\n",
    "to the client in order to avoid crashing it.\n",
    "\n",
    "To change this limit, set the config variable\n",
    "\n",
    "'--NotebookApp.iopub_data_rate_limit'.\n",
    "\n",
    "Current values:\n",
    "\n",
    "NotebookApp.iopub_data_rate_limit=1000000.0 (bytes/sec)\n",
    "\n",
    "NotebookApp.rate_limit_window=3.0 (secs)\n",
    "\n",
    "#### [해결방안]\n",
    "\n",
    "EMR 마스터 노드에서 아래와 같이 명령어 실행"
   ]
  },
  {
   "cell_type": "code",
   "execution_count": null,
   "metadata": {},
   "outputs": [],
   "source": [
    "[hadoop@ip-30-2-1-56 ~]$ sudo vim jupyter_notebook_config.py\n",
    "# 아래 내용을 추가\n",
    "c.NotebookApp.iopub_data_rate_limit = 100000000\n",
    "\n",
    "[hadoop@ip-30-2-1-56 ~]$ cat jupyter_notebook_config.py\n",
    "c.NotebookApp.iopub_data_rate_limit = 100000000\n",
    "\n",
    "[hadoop@ip-30-2-1-56 ~]$ sudo docker cp jupyter_notebook_config.py jupyterhub:/etc/jupyter/jupyter_notebook_config.py\n",
    "\n",
    "[hadoop@ip-30-2-1-56 ~]$ sudo docker restart jupyterhub\n",
    "jupyterhub"
   ]
  }
 ],
 "metadata": {
  "kernelspec": {
   "display_name": "Python 3",
   "language": "python",
   "name": "python3"
  },
  "language_info": {
   "codemirror_mode": {
    "name": "ipython",
    "version": 3
   },
   "file_extension": ".py",
   "mimetype": "text/x-python",
   "name": "python",
   "nbconvert_exporter": "python",
   "pygments_lexer": "ipython3",
   "version": "3.7.4"
  }
 },
 "nbformat": 4,
 "nbformat_minor": 2
}
