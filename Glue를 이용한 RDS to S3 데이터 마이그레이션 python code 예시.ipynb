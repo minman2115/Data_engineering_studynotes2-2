{
 "cells": [
  {
   "cell_type": "code",
   "execution_count": null,
   "metadata": {},
   "outputs": [],
   "source": [
    "import sys\n",
    "from awsglue.transforms import *\n",
    "from awsglue.utils import getResolvedOptions\n",
    "from pyspark.context import SparkContext\n",
    "from awsglue.context import GlueContext\n",
    "from awsglue.job import Job\n",
    "from pyspark.sql.functions import *\n",
    "from awsglue.dynamicframe import DynamicFrame\n",
    "from pyspark.sql.types import *\n",
    "\n",
    "sc = SparkContext.getOrCreate()\n",
    "glueContext = GlueContext(sc)\n",
    "\n",
    "\n",
    "datasource = glueContext.create_dynamic_frame.from_options(connection_type=\"postgresql\",\n",
    "                                                          connection_options={\n",
    "                                                          \"url\": \"jdbc:postgresql://XXXXXXXXX.XXXXXXXXXXXX.ap-northeast-2.rds.amazonaws.com:6001/[DataBaseName]\",\n",
    "                                                          \"dbtable\": \"store\",\n",
    "                                                          \"user\": \"xxxx\",\n",
    "                                                          \"password\": \"yyyyyyy\"})\n",
    "\n",
    "\n",
    "glueContext.write_dynamic_frame.from_options(frame = datasource,connection_type = \"s3\",connection_options = {\"path\": \"s3://[bucketname]/[prefix]/\"},format = \"parquet\")"
   ]
  }
 ],
 "metadata": {
  "kernelspec": {
   "display_name": "Python 3",
   "language": "python",
   "name": "python3"
  },
  "language_info": {
   "codemirror_mode": {
    "name": "ipython",
    "version": 3
   },
   "file_extension": ".py",
   "mimetype": "text/x-python",
   "name": "python",
   "nbconvert_exporter": "python",
   "pygments_lexer": "ipython3",
   "version": "3.7.4"
  }
 },
 "nbformat": 4,
 "nbformat_minor": 2
}
