{
 "cells": [
  {
   "cell_type": "markdown",
   "metadata": {},
   "source": [
    ".\n",
    "\n",
    "[목표]\n",
    "\n",
    "ASIS EMR의 jupyterhub 계정정보와 라이브러리를 백업해서 TOBE EMR에서 restore하는 쉘스크립트 예시\n",
    "\n",
    "- backup.sh"
   ]
  },
  {
   "cell_type": "code",
   "execution_count": null,
   "metadata": {},
   "outputs": [],
   "source": [
    "#!/bin/bash\n",
    "\n",
    "####################################################################\n",
    "# backup pip3 library in EMR master node\n",
    "####################################################################\n",
    "\n",
    "pip3 freeze > /home/hadoop/requirements.txt\n",
    "aws s3 cp /home/hadoop/requirements.txt s3://pms-bucket-test/dev_emr_backup/\n",
    "\n",
    "####################################################################\n",
    "# backup jupyterhub user info\n",
    "####################################################################\n",
    "\n",
    "echo \"c.LocalAuthenticator.create_system_users = True\" | sudo tee -a /etc/jupyter/conf/jupyterhub_config.py\n",
    "sudo docker restart jupyterhub\n",
    "\n",
    "token=$(sudo docker exec jupyterhub /opt/conda/bin/jupyterhub token jovyan | tail -1)\n",
    "user_list=$(curl -XGET -s -k https://$(hostname):9443/hub/api/users -H \"Authorization: token $token\" | jq '.[].name' | sed 's/\"//g')\n",
    "echo $user_list > /home/hadoop/jupyterhub_user_list.txt\n",
    "aws s3 cp /home/hadoop/jupyterhub_user_list.txt s3://pms-bucket-test/jupyterhub_user_list.txt\n",
    "\n",
    "####################################################################\n",
    "# backup jupyterhub pip library\n",
    "####################################################################\n",
    "\n",
    "sudo docker exec jupyterhub bash -c \"pip freeze > jupyterhub_requirements.txt\"\n",
    "sudo docker cp jupyterhub:/home/jovyan/jupyterhub_requirements.txt /home/hadoop/\n",
    "aws s3 cp /home/hadoop/jupyterhub_requirements.txt s3://pms-bucket-test/dev_emr_backup/\n",
    "\n",
    "####################################################################\n",
    "# backup yum library in EMR master node\n",
    "####################################################################\n",
    "\n",
    "rpm -qa > /home/hadoop/yum_list_backup.log\n",
    "aws s3 cp /home/hadoop/yum_list_backup.log s3://pms-bucket-test/dev_emr_backup/"
   ]
  },
  {
   "cell_type": "markdown",
   "metadata": {},
   "source": [
    "- restore.sh"
   ]
  },
  {
   "cell_type": "code",
   "execution_count": null,
   "metadata": {},
   "outputs": [],
   "source": [
    "#!/bin/bash\n",
    "\n",
    "####################################################################\n",
    "# restore yum library in EMR master node\n",
    "####################################################################\n",
    "\n",
    "aws s3 cp s3://pms-bucket-test/dev_emr_backup/yum_list_backup.log /home/hadoop/yum_list_backup.log\n",
    "sudo yum -y install $(cat /home/hadoop/yum_list_backup.log)\n",
    "\n",
    "####################################################################\n",
    "# restore pip3 library in EMR master node\n",
    "####################################################################\n",
    "\n",
    "aws s3 cp s3://pms-bucket-test/dev_emr_backup/requirements.txt /home/hadoop/requirements.txt\n",
    "sudo pip3 install $(grep -ivE \"beautifulsoup4|boto|click|jmespath|joblib|lxml|mysqlclient|nltk|nose|numpy|py-dateutil|python37-sagemaker-pyspark|pytz|PyYAML|regex|six|tqdm|windmill\" /home/hadoop/requirements.txt)\n",
    "\n",
    "####################################################################\n",
    "# restore jupyterhub user info\n",
    "####################################################################\n",
    "\n",
    "echo \"c.LocalAuthenticator.create_system_users = True\" | sudo tee -a /etc/jupyter/conf/jupyterhub_config.py\n",
    "sudo docker restart jupyterhub\n",
    "\n",
    "aws s3 cp s3://pms-bucket-test/jupyterhub_user_list.txt /home/hadoop/jupyterhub_user_list.txt\n",
    "\n",
    "set -x\n",
    "USERS=($( cat /home/hadoop/jupyterhub_user_list.txt ))\n",
    "TOKEN=$(sudo docker exec jupyterhub /opt/conda/bin/jupyterhub token jovyan | tail -1)\n",
    "password=$(echo \"bXlwYXNzd2Q=\" | base64 -d)\n",
    "# bXlwYXNzd2Q= : mypasswd\n",
    "\n",
    "for i in \"${USERS[@]}\";\n",
    "do \n",
    "   sudo docker exec jupyterhub useradd -m -s /bin/bash -N $i\n",
    "   sudo docker exec jupyterhub bash -c \"echo $i:$password | chpasswd\"\n",
    "done\n",
    "\n",
    "####################################################################\n",
    "# restore jupyterhub pip library\n",
    "####################################################################\n",
    "\n",
    "aws s3 cp s3://pms-bucket-test/dev_emr_backup/jupyterhub_requirements.txt /home/hadoop/jupyterhub_requirements.txt\n",
    "sudo docker cp /home/hadoop/jupyterhub_requirements.txt jupyterhub:/home/jovyan/jupyterhub_requirements.txt\n",
    "sudo docker exec jupyterhub bash -c \"pip install -r jupyterhub_requirements.txt\""
   ]
  }
 ],
 "metadata": {
  "kernelspec": {
   "display_name": "Python 3",
   "language": "python",
   "name": "python3"
  },
  "language_info": {
   "codemirror_mode": {
    "name": "ipython",
    "version": 3
   },
   "file_extension": ".py",
   "mimetype": "text/x-python",
   "name": "python",
   "nbconvert_exporter": "python",
   "pygments_lexer": "ipython3",
   "version": "3.7.4"
  }
 },
 "nbformat": 4,
 "nbformat_minor": 2
}
