{
 "cells": [
  {
   "cell_type": "markdown",
   "metadata": {},
   "source": [
    ".\n",
    "\n",
    "Data_Engineering_TIL(20201108)\n",
    "\n",
    "#### [문제상황]\n",
    "\n",
    "주피터 노트북을 이용해 pyspark을 사용하려고 하는데 주피터 노트북에서 직접 spark configuration을 부여해서 사용하고 싶다.\n",
    "\n",
    "\n",
    "#### [문제해결을 위해 알아야할 내용]\n",
    "\n",
    "- Jupyter notebook에서 spark config 적용 방법\n",
    "\n",
    "주피터노트북 가장상단 cell에서 아래와 같은 명령어를 실행한다. "
   ]
  },
  {
   "cell_type": "code",
   "execution_count": null,
   "metadata": {},
   "outputs": [],
   "source": [
    "%%configure -f\n",
    "{\n",
    "    \"name\": \"my_spark_app_name\",\n",
    "    \"conf\": {\n",
    "        \"spark.executor.cores\": 5,\n",
    "        \"spark.executor.memory\": \"19g\",\n",
    "        \"spark.yarn.executor.memoryOverhead\": \"2g\",\n",
    "        \"spark.driver.memory\": \"19g\",\n",
    "        \"spark.executor.instances\": 8,\n",
    "        \"spark.default.parallelism\": 80,\n",
    "        \"spark.sql.shuffle.partitions\": 80\n",
    "    }\n",
    "}"
   ]
  },
  {
   "cell_type": "markdown",
   "metadata": {},
   "source": [
    "위의 명령어 실행시 결과화면은 아래와 같을것이다.\n",
    "\n",
    "`Current session configs: {'name': 'my_spark_app_name', 'conf': {'spark.executor.cores': 5, 'spark.executor.memory': '19g', 'spark.yarn.executor.memoryOverhead': '2g', 'spark.driver.memory': '19g', 'spark.executor.instances': 8, 'spark.default.parallelism': 80, 'spark.sql.shuffle.partitions': 80}, 'proxyUser': 'jovyan', 'kind': 'pyspark'}`\n",
    "\n",
    "\n",
    "- spark-submit 시 conf 적용 우선순위\n",
    "\n",
    "\n",
    "1순위 pyspark code\n",
    "\n",
    "\n",
    "2순위 spark-submit property\n",
    "\n",
    "\n",
    "3순위 spark-default.conf\n",
    "\n",
    "\n",
    "- jupyter notebook에서는 아래와 같이 getorcreate()에서 create가 먹지 않는다 왜냐하면 jupyter에서 미리 생성하기 때문이다. 그래서 spark = sparksession... 이게 먹지 않는다. 모든 config는 jupyter에서 spark 셋팅하고 들어간다.\n",
    "\n",
    "\n",
    "`spark = SparkSession.builder.appName(\"my_spark_app\").getOrCreate()`\n",
    "\n",
    "\n",
    "\n",
    "- jupyter 에서 spark = sparksession ... getorcreate가 달린 이유는 하나이다. jupyter에서 설정된 spark config 값들을 가져오라는 것이다. 아무리 spark = sparksession뒤에 config를 달아도 먹지 않는 이유다.\n",
    "\n",
    "\n",
    "- Livy의 핵심 동작원리\n",
    "\n",
    "notebook에서 spark 커널을 띄우면 Livy가 자동실행됨 --> LIvy <-- REST communication --> spark cluster endpoint"
   ]
  }
 ],
 "metadata": {
  "kernelspec": {
   "display_name": "Python 3",
   "language": "python",
   "name": "python3"
  },
  "language_info": {
   "codemirror_mode": {
    "name": "ipython",
    "version": 3
   },
   "file_extension": ".py",
   "mimetype": "text/x-python",
   "name": "python",
   "nbconvert_exporter": "python",
   "pygments_lexer": "ipython3",
   "version": "3.7.4"
  }
 },
 "nbformat": 4,
 "nbformat_minor": 2
}
