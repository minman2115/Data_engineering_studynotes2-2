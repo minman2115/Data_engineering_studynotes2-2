{
 "cells": [
  {
   "cell_type": "code",
   "execution_count": null,
   "metadata": {},
   "outputs": [],
   "source": [
    "user@DESKTOP-QKRJSLG MINGW64 /\n",
    "$ aws emr add-steps --cluster-id j-BCLM0EWEAZIE --steps Type=CUSTOM_JAR,Name=\"my_spark_job\",Jar=\"command-runner.jar\",ActionOnFailure=CONTINUE,Args=[spark-submit,--deploy-mode,client,--master,yarn,s3://pms-bucket-test/spark_job_01.py]\n",
    "{\n",
    "    \"StepIds\": [\n",
    "        \"s-2C6VIFERR0TIP\"\n",
    "    ]\n",
    "}"
   ]
  }
 ],
 "metadata": {
  "kernelspec": {
   "display_name": "Python 3",
   "language": "python",
   "name": "python3"
  },
  "language_info": {
   "codemirror_mode": {
    "name": "ipython",
    "version": 3
   },
   "file_extension": ".py",
   "mimetype": "text/x-python",
   "name": "python",
   "nbconvert_exporter": "python",
   "pygments_lexer": "ipython3",
   "version": "3.7.4"
  }
 },
 "nbformat": 4,
 "nbformat_minor": 2
}
