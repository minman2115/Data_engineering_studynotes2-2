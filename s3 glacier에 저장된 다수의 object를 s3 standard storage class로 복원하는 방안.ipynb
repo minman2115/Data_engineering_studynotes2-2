{
 "cells": [
  {
   "cell_type": "markdown",
   "metadata": {},
   "source": [
    ".\n",
    "\n",
    "Data_Engineering_TIL(20201202)\n",
    "\n",
    "AWS support cases로 공부한 내용입니다.\n",
    "\n",
    "[학습내용]\n",
    "\n",
    "1. 현재상황\n",
    "\n",
    "you need to restore thousands ~ tens of thousands of objects from S3 Glacier, then you want query objects in Athena. So you want to know any ways to restore thousands to tens of thousands of objects from S3 Glacier\n",
    "\n",
    "참고사항 : If you want to make Athena query work with the GLACIER objects, it need to transfer the object back to the Amazon S3 Standard storage class.\n",
    "\n",
    "2. 해결방안\n",
    "\n",
    "There are multiple ways to initiate the restore\n",
    "\n",
    "Option 1. AWS console [1] - Explain how to use the Amazon S3 console to restore an object that has been archived to the S3 Glacier. There are 3 ways to perform a retrieval of objects from glacier storage class, namely, Standard, Bulk, and Expedited. Depending on the retrieval option selected, the restore completes in:\n",
    "\n",
    "* 1-5 minutes for expedited retrievals\n",
    "\n",
    "\n",
    "* 3-5 hours for standard retrievals\n",
    "\n",
    "\n",
    "* 5-12 hours for bulk retrievals\n",
    "\n",
    "Option 2. AWS SDK - Using the REST API commands but with the paginate option to make object listing easier. I found a 3rd party article which explains this in more detail [2].\n",
    "\n",
    "Option 3. S3 Batch Operations - You can use S3 batch operations to execute a single operation on a list of S3 objects that you specify including initiating object restores from S3 Glacier. Once the batch operations restore a temporary copy of the object, you can then trigger the copy operation to make a copy of the objects. More details in [3].’\n",
    "\n",
    "\n",
    "참고자료. S3 pricing page[4] reference\n",
    "\n",
    "review the data retrieval charges as well as cost of S3 Batch operations\n",
    "\n",
    "\n",
    "3. reference\n",
    "\n",
    "[1] - How do I restore an S3 object that has been archived?  - https://docs.aws.amazon.com/AmazonS3/latest/user-guide/restore-archived-objects.html\n",
    "\n",
    "[2] - https://www.linuxschoolonline.com/how-i-could-restore-1-million-files-from-glacier-to-standard-s3/\n",
    "\n",
    "[3] - https://aws.amazon.com/premiumsupport/knowledge-center/s3-batch-operation-initiate-restore/\n",
    "\n",
    "[4] - https://aws.amazon.com/s3/pricing/"
   ]
  }
 ],
 "metadata": {
  "kernelspec": {
   "display_name": "Python 3",
   "language": "python",
   "name": "python3"
  },
  "language_info": {
   "codemirror_mode": {
    "name": "ipython",
    "version": 3
   },
   "file_extension": ".py",
   "mimetype": "text/x-python",
   "name": "python",
   "nbconvert_exporter": "python",
   "pygments_lexer": "ipython3",
   "version": "3.7.4"
  }
 },
 "nbformat": 4,
 "nbformat_minor": 2
}
