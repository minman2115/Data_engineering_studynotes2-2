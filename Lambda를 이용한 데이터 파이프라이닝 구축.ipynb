{
 "cells": [
  {
   "cell_type": "markdown",
   "metadata": {},
   "source": [
    ".\n",
    "\n",
    "Data_Engineering_TIL(20200623)\n",
    "\n",
    "[참고사항]\n",
    "\n",
    "- study program : Fastcampus Data Engineering 온라인\n",
    "\n",
    "** URL : https://www.fastcampus.co.kr/data_online_engineering\n",
    "\n",
    "\n",
    "- 'Athena에서 S3 데이터 테이블 생성&쿼리'를 이어서 참고할 것\n",
    "\n",
    "\n",
    "- URL : https://minman2115.github.io/DE_TIL94\n",
    "\n",
    "[학습내용]\n",
    "\n",
    "- 아티스트가 새로 추가되었을때 다이나모디비에 탑트랙도 데이터를 확보하는 것을 람다로 구현하고자 한다.\n",
    "\n",
    "\n",
    "- 아티스트 데이터는 mysql 디비에 저장이 되어있고, 해당 아티스트에 대한 탑트랙 데이터만 다이나모 디비에 저장하려고 하는 것이다.\n",
    "\n",
    "\n",
    "- 챗봇을 통해서 새로운 아티스트 유저가 input을 했을때 그 유저가 input한 아티스트를 가지고 람다 안에서 search를 하게 된다. search해서 spotify artist가 매칭이 되면 그 lambda가 다른 lambda를 요청하는 그런 구조로 갈 것이다.\n",
    "\n",
    "\n",
    "- Lambda function을 하나 만들어준다. 제한시간은 1분, RAM은 1기가로 잡아준다.\n",
    "\n",
    "\n",
    "- 그리고 아래와 같이 top_tracks 폴더를 만든 다음에 pytion script를 하나 열어준다.\n",
    "\n",
    "\n",
    "![image](https://user-images.githubusercontent.com/41605276/85365021-6e94fd80-b55f-11ea-89f1-78a8977b58e6.png)\n",
    "\n",
    "\n",
    "- top_tracks 폴더 안에 아래 내용과 같이 lambda_function.py를 만들어준다."
   ]
  },
  {
   "cell_type": "code",
   "execution_count": null,
   "metadata": {},
   "outputs": [],
   "source": [
    "import sys\n",
    "sys.path.append('./libs')\n",
    "import os\n",
    "import boto3\n",
    "import requests\n",
    "import base64\n",
    "import json\n",
    "import logging\n",
    "\n",
    "client_id = \"xxxxxxxxxxxxxxxxxxxxxxxxxxxxxxxxxxxxxxxxxx\"\n",
    "client_secret = \"xxxxxxxxxxxxxxxxxxxxxxxxxxxxxxxxxxxxxxxxxx\"\n",
    "\n",
    "try:\n",
    "    dynamodb = boto3.resource('dynamodb', region_name='ap-northeast-2', endpoint_url='http://dynamodb.ap-northeast-2.amazonaws.com')\n",
    "except:\n",
    "    logging.error('could not connect to dynamodb')\n",
    "    sys.exit(1)\n",
    "\n",
    "def lambda_handler(event, context):\n",
    "    headers = get_headers(client_id, client_secret)\n",
    "    table = dynamodb.Table('pms-dynamodb-test')\n",
    "    artist_id = event['artist_id']\n",
    "    URL = \"https://api.spotify.com/v1/artists/{}/top-tracks\".format(artist_id)\n",
    "    params = {'country': 'US'}\n",
    "    r = requests.get(URL, params=params, headers=headers)\n",
    "    raw = json.loads(r.text)\n",
    "    for track in raw['tracks']:\n",
    "        data = {'artist_id': artist_id}\n",
    "        data.update(track)\n",
    "        table.put_item(Item=data)\n",
    "    return \"SUCCESS\"\n",
    "\n",
    "def get_headers(client_id, client_secret):\n",
    "    endpoint = \"https://accounts.spotify.com/api/token\"\n",
    "    encoded = base64.b64encode(\"{}:{}\".format(client_id, client_secret).encode('utf-8')).decode('ascii')\n",
    "    headers = {\"Authorization\": \"Basic {}\".format(encoded)}\n",
    "    payload = {\"grant_type\": \"client_credentials\"}\n",
    "    r = requests.post(endpoint, data=payload, headers=headers)\n",
    "    access_token = json.loads(r.text)['access_token']\n",
    "    headers = {\"Authorization\": \"Bearer {}\".format(access_token)}\n",
    "    return headers"
   ]
  },
  {
   "cell_type": "markdown",
   "metadata": {},
   "source": [
    "- 그리고 requirements.txt를 만들어준다. requirement.txt 내용은 아래와 같다."
   ]
  },
  {
   "cell_type": "code",
   "execution_count": null,
   "metadata": {},
   "outputs": [],
   "source": [
    "requests"
   ]
  },
  {
   "cell_type": "markdown",
   "metadata": {},
   "source": [
    "- 그런 다음에 setup.cfg 파일을 하나 더 생성하고 내용은 아래와 같이 작성해서 저장한다.\n",
    "\n",
    "(pip install시 홈이냐 프리픽스냐 하는 포인터 이슈로 오류가 발생하는 경우가 있어서 setup.cfg 파일을 만든것이다.)"
   ]
  },
  {
   "cell_type": "code",
   "execution_count": null,
   "metadata": {},
   "outputs": [],
   "source": [
    "[install]\n",
    "prefix= "
   ]
  },
  {
   "cell_type": "markdown",
   "metadata": {},
   "source": [
    "- `pip3 install -r requirements.txt -t ./libs` 명령으로 requirements.txt를 참조하여 top_tracks/libs/ 안에 request 파이썬 라이브러리를 설치한다.\n",
    "\n",
    "\n",
    "- 그러면 top_tracks 폴더 안에 lambda_function.py,libs/,requirements.txt가 있고, libs 폴더 안에는 아래와 같이 라이브러리 파일들이 인스톨된다."
   ]
  },
  {
   "cell_type": "code",
   "execution_count": null,
   "metadata": {},
   "outputs": [],
   "source": [
    "$ ll\n",
    "total 44\n",
    "drwxr-xr-x 1 user 197121 0  6월 23 14:54 bin/\n",
    "drwxr-xr-x 1 user 197121 0  6월 23 14:54 certifi/\n",
    "drwxr-xr-x 1 user 197121 0  6월 23 14:54 certifi-2020.6.20.dist-info/\n",
    "drwxr-xr-x 1 user 197121 0  6월 23 14:54 chardet/\n",
    "drwxr-xr-x 1 user 197121 0  6월 23 14:54 chardet-3.0.4.dist-info/\n",
    "drwxr-xr-x 1 user 197121 0  6월 23 14:54 idna/\n",
    "drwxr-xr-x 1 user 197121 0  6월 23 14:54 idna-2.9.dist-info/\n",
    "drwxr-xr-x 1 user 197121 0  6월 23 14:54 requests/\n",
    "drwxr-xr-x 1 user 197121 0  6월 23 14:54 requests-2.24.0.dist-info/\n",
    "drwxr-xr-x 1 user 197121 0  6월 23 14:54 urllib3/\n",
    "drwxr-xr-x 1 user 197121 0  6월 23 14:54 urllib3-1.25.9.dist-info/"
   ]
  },
  {
   "cell_type": "markdown",
   "metadata": {},
   "source": [
    "- 추가로 deploy.sh 파일을 만들어준다. 내용은 아래와 같다."
   ]
  },
  {
   "cell_type": "code",
   "execution_count": null,
   "metadata": {},
   "outputs": [],
   "source": [
    "#!/bin/bash\n",
    "\n",
    "rm -rf ./libs\n",
    "pip3 install -r requirements.txt -t ./libs\n",
    "\n",
    "rm *.zip\n",
    "zip top_tracks.zip -r *\n",
    "\n",
    "aws s3 rm s3://pms-bucket-test/top_tracks.zip\n",
    "aws s3 cp ./top_tracks.zip s3://pms-bucket-test/top_tracks.zip\n",
    "aws lambda update-function-code --function-name pms-lambda-test --s3-bucket pms-bucket-test --s3-key top_tracks.zip"
   ]
  },
  {
   "cell_type": "markdown",
   "metadata": {},
   "source": [
    "- 그 다음에 `chmod +x deploy.sh` 명령으로 실행권한을 부여한다.\n",
    "\n",
    "\n",
    "- 그런 다음에 `./deploy.sh`를 실행하면, 해당 s3버킷에 top_tracks.zip 파일이 업로드 된 것을 확인할 수 있고, 아래와 같은 결과를 얻을 수 있다."
   ]
  },
  {
   "cell_type": "code",
   "execution_count": null,
   "metadata": {},
   "outputs": [],
   "source": [
    "{\n",
    "    \"FunctionName\": \"pms-lambda-test\",\n",
    "    \"FunctionArn\": \"arn:aws:lambda:ap-northeast-2:xxxxxxxxxxxxxxx:function:pms-lambda-test\",\n",
    "    \"Runtime\": \"python3.7\",\n",
    "    \"Role\": \"arn:aws:iam::xxxxxxxxxxxxxxx:role/service-role/pms-lambda-test-role-tlsk1p93\",\n",
    "    \"Handler\": \"lambda_function.lambda_handler\",\n",
    "    \"CodeSize\": 971993,\n",
    "    \"Description\": \"\",\n",
    "    \"Timeout\": 60,\n",
    "    \"MemorySize\": 1088,\n",
    "    \"LastModified\": \"2020-06-23T06:24:21.793+0000\",\n",
    "    \"CodeSha256\": \"xxxxxxxxxxxxxxxxxxxxxxxxxxxx\",\n",
    "    \"Version\": \"$LATEST\",\n",
    "    \"TracingConfig\": {\n",
    "        \"Mode\": \"PassThrough\"\n",
    "    },\n",
    "    \"RevisionId\": \"xxxxxxxxxxxxxxxxxxxxxxxxxxxx\",\n",
    "    \"State\": \"Active\",\n",
    "    \"LastUpdateStatus\": \"Successful\"\n",
    "}"
   ]
  },
  {
   "cell_type": "markdown",
   "metadata": {},
   "source": [
    "- Lambda function으로 돌아가면 아래와 같이 코드가 업데이트 된 것을 확인할 수 있다.\n",
    "\n",
    "![image](https://user-images.githubusercontent.com/41605276/85368557-63919b80-b566-11ea-989d-344cb7a0c76d.png)\n",
    "\n",
    "\n",
    "- 그리고 아래와 같이 마룬5 아티스트 아이디로 테스트를 진행해본다.\n",
    "\n",
    "![image](https://user-images.githubusercontent.com/41605276/85480705-6d191300-b5fb-11ea-9993-e33d878f1704.png)\n",
    "\n",
    "- 테스트를 실시하면 Error가 날것이다. 그래서 클라우드와치로 들어가서 해당 Error 로그를 확인하면 다음과 같을것이다.\n",
    "\n",
    "--> Error의 결론은 다이나모디비에 접근권한이 없다는 것이다."
   ]
  },
  {
   "cell_type": "code",
   "execution_count": null,
   "metadata": {},
   "outputs": [],
   "source": [
    "[ERROR] ClientError: An error occurred (AccessDeniedException) when calling the PutItem operation: User: arn:aws:sts::xxxxxxxxxx:assumed-role/pms-lambda-test-role-tlsk1p93/pms-lambda-test is not authorized to perform: dynamodb:PutItem on resource: arn:aws:dynamodb:ap-northeast-2:xxxxxxxxxxxxx:table/pms-dynamodb-test\n",
    "Traceback (most recent call last):\n",
    "  File \"/var/task/lambda_function.py\", line 30, in lambda_handler\n",
    "    table.put_item(Item=data)\n",
    "  File \"/var/runtime/boto3/resources/factory.py\", line 520, in do_action\n",
    "    response = action(self, *args, **kwargs)\n",
    "  File \"/var/runtime/boto3/resources/action.py\", line 83, in __call__\n",
    "    response = getattr(parent.meta.client, operation_name)(*args, **params)\n",
    "  File \"/var/runtime/botocore/client.py\", line 316, in _api_call\n",
    "    return self._make_api_call(operation_name, kwargs)\n",
    "  File \"/var/runtime/botocore/client.py\", line 626, in _make_api_call\n",
    "    raise error_class(parsed_response, operation_name)"
   ]
  },
  {
   "cell_type": "markdown",
   "metadata": {},
   "source": [
    "- 그래서 아래 그림과 같이 Lambda function의 해당 IAM 역할에서 dynamodb access가 가능한 정책을 추가해준다.\n",
    "\n",
    "![image](https://user-images.githubusercontent.com/41605276/85488209-e1a67e80-b608-11ea-9799-ab229bf4f021.png)\n",
    "\n",
    "- 그리고 다시 테스트하면 success 가 뜨면서 잘 돌아가는 것을 확인할 수 있다.\n",
    "\n",
    "\n",
    "- 추가로 아래 그림과 같이 특정시간에 람다가 돌아갈 수 있도록 트리거를 설정해줄 수 있는데, 이번 실습에서는 실제로 적용하지는 않는다. \n",
    "\n",
    "![image](https://user-images.githubusercontent.com/41605276/85492298-ec184680-b60f-11ea-8e36-93e837b13d90.png)"
   ]
  }
 ],
 "metadata": {
  "kernelspec": {
   "display_name": "Python 3",
   "language": "python",
   "name": "python3"
  },
  "language_info": {
   "codemirror_mode": {
    "name": "ipython",
    "version": 3
   },
   "file_extension": ".py",
   "mimetype": "text/x-python",
   "name": "python",
   "nbconvert_exporter": "python",
   "pygments_lexer": "ipython3",
   "version": "3.7.4"
  }
 },
 "nbformat": 4,
 "nbformat_minor": 2
}
