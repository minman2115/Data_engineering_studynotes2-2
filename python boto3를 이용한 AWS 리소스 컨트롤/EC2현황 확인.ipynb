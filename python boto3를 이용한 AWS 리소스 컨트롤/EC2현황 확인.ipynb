{
 "cells": [
  {
   "cell_type": "code",
   "execution_count": null,
   "metadata": {},
   "outputs": [],
   "source": [
    "import boto3\n",
    "ec2client = boto3.client('ec2')\n",
    "response = ec2client.describe_instances(Filters=[{\"Name\" : \"tag:Name\", \"Values\" : [\"minman\"]}])\n",
    "for reservation in response[\"Reservations\"]:\n",
    "    for instance in reservation['Instances']:\n",
    "        print(instance)"
   ]
  },
  {
   "cell_type": "code",
   "execution_count": 7,
   "metadata": {},
   "outputs": [
    {
     "name": "stdout",
     "output_type": "stream",
     "text": [
      "eu-north-1\n",
      "ap-south-1\n",
      "eu-west-3\n",
      "eu-west-2\n",
      "eu-west-1\n",
      "ap-northeast-2\n",
      "i-05ce1f505042e2007 172.31.27.251 [{'Key': 'Name', 'Value': 'minman'}]\n",
      "ap-northeast-1\n",
      "sa-east-1\n",
      "ca-central-1\n",
      "ap-southeast-1\n",
      "ap-southeast-2\n",
      "eu-central-1\n",
      "us-east-1\n",
      "us-east-2\n",
      "us-west-1\n",
      "us-west-2\n"
     ]
    }
   ],
   "source": [
    "import boto3\n",
    "session = boto3.session.Session(profile_name=\"default\")\n",
    "ec2_cli = boto3.client('ec2')\n",
    "for region in ec2_cli.describe_regions()[\"Regions\"]:\n",
    "    ec2_cli = session.client(service_name=\"ec2\", region_name=region[\"RegionName\"])\n",
    "    print(region[\"RegionName\"])\n",
    "    try:\n",
    "        response = ec2_cli.describe_instances()\n",
    "        for reservation in response[\"Reservations\"]:\n",
    "            for instance in reservation[\"Instances\"]:\n",
    "                print(instance[\"InstanceId\"], instance[\"PrivateIpAddress\"], instance[\"Tags\"])\n",
    "    except Exception as e:\n",
    "        print(e)"
   ]
  },
  {
   "cell_type": "code",
   "execution_count": 9,
   "metadata": {},
   "outputs": [
    {
     "name": "stdout",
     "output_type": "stream",
     "text": [
      "eu-north-1\n",
      "ap-south-1\n",
      "eu-west-3\n",
      "eu-west-2\n",
      "eu-west-1\n",
      "ap-northeast-2\n",
      "minman\n",
      "172.31.27.251\n",
      "i-05ce1f505042e2007\n",
      "#####################################\n",
      "ap-northeast-1\n",
      "sa-east-1\n",
      "ca-central-1\n",
      "ap-southeast-1\n",
      "ap-southeast-2\n",
      "eu-central-1\n",
      "us-east-1\n",
      "us-east-2\n",
      "us-west-1\n",
      "us-west-2\n"
     ]
    }
   ],
   "source": [
    "import boto3\n",
    "session = boto3.session.Session(profile_name=\"default\")\n",
    "ec2_cli = boto3.client('ec2')\n",
    "for region in ec2_cli.describe_regions()[\"Regions\"]:\n",
    "    ec2_cli = session.client(service_name=\"ec2\", region_name=region[\"RegionName\"])\n",
    "    print(region[\"RegionName\"])\n",
    "    try:\n",
    "        response = ec2_cli.describe_instances()\n",
    "        for reservation in response[\"Reservations\"]:\n",
    "            for instance in reservation[\"Instances\"]:\n",
    "                if 'terminated' == str(instance.get(\"State\").get('Name')) or 'pending' == str(instance.get(\"State\").get('Name')):\n",
    "                    print(\"###################\"+instance.get(\"State\").get('Name'))\n",
    "                else:\n",
    "                    try:\n",
    "                        for tags in instance['Tags']:\n",
    "                            if tags[\"Key\"] == 'Name':\n",
    "                                vTag = tags[\"Value\"]\n",
    "                                print(vTag)\n",
    "                                print(instance.get(\"PrivateIpAddress\"))\n",
    "                                print(instance.get(\"InstanceId\"))\n",
    "                                print(\"#####################################\")\n",
    "                            else:\n",
    "                                print(\"No Tag!!!\")\n",
    "                                print(instance.get(\"PrivateIpAddress\"))\n",
    "                                print(instance.get(\"InstanceId\"))\n",
    "                                print(\"*************************************\")\n",
    "                    except Exception as e:\n",
    "                        print(e)\n",
    "                        \n",
    "    except Exception as e1:\n",
    "        print(e1)"
   ]
  },
  {
   "cell_type": "code",
   "execution_count": 1,
   "metadata": {},
   "outputs": [],
   "source": [
    "# s3에서 GLACIER 제외 파일들을 뽑아냄\n",
    "bucket_name = 'minman'\n",
    "import boto3\n",
    "s3_res = boto3.resource('s3')\n",
    "each_bucket = s3_res.Bucket(bucket_name)\n",
    "version = each_bucket.objects\n",
    "for ver in version.all():\n",
    "    if (ver.storage_class) in 'GLACIER':\n",
    "        pass\n",
    "    else:\n",
    "        print(ver.key)\n",
    "        print('##########')\n",
    "        print(ver.storage_class)"
   ]
  }
 ],
 "metadata": {
  "kernelspec": {
   "display_name": "Python 3",
   "language": "python",
   "name": "python3"
  },
  "language_info": {
   "codemirror_mode": {
    "name": "ipython",
    "version": 3
   },
   "file_extension": ".py",
   "mimetype": "text/x-python",
   "name": "python",
   "nbconvert_exporter": "python",
   "pygments_lexer": "ipython3",
   "version": "3.7.4"
  }
 },
 "nbformat": 4,
 "nbformat_minor": 2
}
