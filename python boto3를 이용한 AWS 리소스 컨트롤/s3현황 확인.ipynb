{
 "cells": [
  {
   "cell_type": "code",
   "execution_count": 24,
   "metadata": {},
   "outputs": [
    {
     "name": "stdout",
     "output_type": "stream",
     "text": [
      "버거킹 메뉴.txt\n",
      "##########\n",
      "STANDARD\n"
     ]
    }
   ],
   "source": [
    "## s3에서 GLACIER 제외 파일 리스트를 출력\n",
    "\n",
    "bucket_name = 'minman'\n",
    "import boto3\n",
    "s3_res = boto3.resource('s3')\n",
    "each_bucket = s3_res.Bucket(bucket_name)\n",
    "version = each_bucket.objects\n",
    "for ver in version.all():\n",
    "    if (ver.storage_class) in 'GLACIER':\n",
    "        pass\n",
    "    else:\n",
    "        print(ver.key)\n",
    "        print('##########')\n",
    "        print(ver.storage_class)"
   ]
  },
  {
   "cell_type": "code",
   "execution_count": 25,
   "metadata": {},
   "outputs": [
    {
     "name": "stdout",
     "output_type": "stream",
     "text": [
      "버거킹 메뉴.txt\n",
      "STANDARD\n",
      "{'ResponseMetadata': {'RequestId': '631B3ADCC25E982A', 'HostId': 'aF3hGT79Qb+LfPjqau9WxzLK5np7TwBvpt6P4dmajLEVeJud2XlGKsiCR14t+3Jz2o8r7m0BC7g=', 'HTTPStatusCode': 204, 'HTTPHeaders': {'x-amz-id-2': 'aF3hGT79Qb+LfPjqau9WxzLK5np7TwBvpt6P4dmajLEVeJud2XlGKsiCR14t+3Jz2o8r7m0BC7g=', 'x-amz-request-id': '631B3ADCC25E982A', 'date': 'Tue, 24 Dec 2019 02:59:24 GMT', 'x-amz-version-id': '.2EeXds9SChtkUF47vXhFeapKufiiJC7', 'x-amz-delete-marker': 'true', 'server': 'AmazonS3'}, 'RetryAttempts': 0}, 'DeleteMarker': True, 'VersionId': '.2EeXds9SChtkUF47vXhFeapKufiiJC7'}\n"
     ]
    }
   ],
   "source": [
    "## 버켓에 파일지우기\n",
    "\n",
    "bucket_name = 'minman'\n",
    "import boto3\n",
    "each_bucket = s3_res.Bucket(bucket_name)\n",
    "for ver in version.all():\n",
    "    if (ver.storage_class) in 'STANDARD':\n",
    "        print(ver.key)\n",
    "        print(ver.storage_class)\n",
    "        dir(ver.Version)\n",
    "        delete_std = ver.delete()\n",
    "        print(delete_std)\n",
    "    else:\n",
    "        pass"
   ]
  },
  {
   "cell_type": "code",
   "execution_count": 42,
   "metadata": {},
   "outputs": [],
   "source": [
    "## 딜리트마커파일 지우기\n",
    "\n",
    "import boto3\n",
    "\n",
    "default_session=boto3.session.Session(profile_name=\"default\")\n",
    "s3_re=default_session.resource(service_name=\"s3\", region_name=\"ap-northeast-2\")\n",
    "\n",
    "bucket_name = 'minman'\n",
    "s3 = boto3.resource('s3')\n",
    "bucket = s3.Bucket(bucket_name)\n",
    "version = bucket.object_versions\n",
    "for ver in version.all():\n",
    "    if str(ver.size) in 'None':\n",
    "        delete_file = ver.delete()\n",
    "        print(delete_file)\n",
    "    else:\n",
    "        pass"
   ]
  },
  {
   "cell_type": "code",
   "execution_count": 45,
   "metadata": {},
   "outputs": [
    {
     "name": "stdout",
     "output_type": "stream",
     "text": [
      "버거킹 메뉴.txt\n",
      "버거킹 메뉴.txt\n"
     ]
    }
   ],
   "source": [
    "## 버켓 사이즈 내부에 크기 조건에 따른 object 리스트 출력\n",
    "\n",
    "bucket_name = 'minman'\n",
    "import boto3\n",
    "bucket = s3.Bucket(bucket_name)\n",
    "version = bucket.object_versions\n",
    "find_size = 100000\n",
    "for ver in version.all():\n",
    "    try:\n",
    "        if ver.size < 1000:\n",
    "            print(ver.key)\n",
    "        else:\n",
    "            pass\n",
    "        \n",
    "    except Exception as e:\n",
    "        pass"
   ]
  },
  {
   "cell_type": "code",
   "execution_count": 48,
   "metadata": {},
   "outputs": [
    {
     "data": {
      "text/plain": [
       "'10.24 GiB'"
      ]
     },
     "execution_count": 48,
     "metadata": {},
     "output_type": "execute_result"
    }
   ],
   "source": [
    "### 용량을 출력해주는 함수정의\n",
    "\n",
    "def humanbyte(B):\n",
    "    B = float(B)\n",
    "    KiB = float(1024)\n",
    "    MiB = float(KiB**2)\n",
    "    GiB = float(KiB**3)\n",
    "    TiB = float(KiB**4)\n",
    "    \n",
    "    if B < KiB:\n",
    "        return \"{0} {1}\".format(B, 'Bytes' if 0 == B > 1 else 'Byte')\n",
    "    elif KiB <= B < MiB:\n",
    "        return '{0:.2f} KiB'.format(B / KiB)\n",
    "    elif MiB <= B < GiB:\n",
    "        return '{0:.2f} MiB'.format(B / MiB)\n",
    "    elif GiB <= B < TiB:\n",
    "        return '{0:.2f} GiB'.format(B / GiB)\n",
    "    elif TiB <= B :\n",
    "        return '{0:.2f} TiB'.format(B / TiB)\n",
    "    \n",
    "    print('{0} == {1}'.format(t,humanbyte(t)))\n",
    "    \n",
    "humanbyte(11000000000)"
   ]
  },
  {
   "cell_type": "code",
   "execution_count": 50,
   "metadata": {},
   "outputs": [],
   "source": [
    "## 파이썬으로 docx 파일 만들기 예제\n",
    "\n",
    "from docx import Document\n",
    "from docx.shared import Inches\n",
    "\n",
    "document = Document()\n",
    "\n",
    "document.add_heading('Document Title', 0)\n",
    "\n",
    "p = document.add_paragraph('A plain paragraph having some ')\n",
    "p.add_run('bold').bold = True\n",
    "p.add_run(' and some ')\n",
    "p.add_run('italic.').italic = True\n",
    "\n",
    "document.add_heading('Heading, level 1', level=1)\n",
    "document.add_paragraph('Intense quote', style='Intense Quote')\n",
    "\n",
    "document.add_paragraph(\n",
    "    'first item in unordered list', style='List Bullet'\n",
    ")\n",
    "document.add_paragraph(\n",
    "    'first item in ordered list', style='List Number'\n",
    ")\n",
    "\n",
    "document.add_picture('1.png', width=Inches(1.25))\n",
    "\n",
    "records = (\n",
    "    (3, '101', 'Spam'),\n",
    "    (7, '422', 'Eggs'),\n",
    "    (4, '631', 'Spam, spam, eggs, and spam')\n",
    ")\n",
    "\n",
    "table = document.add_table(rows=1, cols=3, style='Table Grid')\n",
    "hdr_cells = table.rows[0].cells\n",
    "hdr_cells[0].text = 'Qty'\n",
    "hdr_cells[1].text = 'Id'\n",
    "hdr_cells[2].text = 'Desc'\n",
    "for qty, id, desc in records:\n",
    "    row_cells = table.add_row().cells\n",
    "    row_cells[0].text = str(qty)\n",
    "    row_cells[1].text = id\n",
    "    row_cells[2].text = desc\n",
    "\n",
    "document.add_page_break()\n",
    "\n",
    "document.save('minsu.docx')"
   ]
  },
  {
   "cell_type": "code",
   "execution_count": 57,
   "metadata": {},
   "outputs": [
    {
     "name": "stdout",
     "output_type": "stream",
     "text": [
      "2019-12-24 12:52:20.681030\n",
      "2019\n"
     ]
    }
   ],
   "source": [
    "## 시간출력 메서드\n",
    "\n",
    "from datetime import datetime\n",
    "\n",
    "ntime = datetime.now()\n",
    "vYear = ntime.year\n",
    "vDay = ntime.day\n",
    "vHour = ntime.hour\n",
    "vMinute = ntime.minute\n",
    "\n",
    "print(ntime)\n",
    "print(vYear)"
   ]
  },
  {
   "cell_type": "code",
   "execution_count": null,
   "metadata": {},
   "outputs": [],
   "source": [
    "## S3 버켓리스트를 출력하고 각각의 용량을 계산해 워드문서로 출력해주는 프로그램\n",
    "\n",
    "from docx import Document\n",
    "from docx.shared import Inches\n",
    "from datetime import datetime\n",
    "import boto3\n",
    "\n",
    "ntime = datetime.now()\n",
    "vYear = ntime.year\n",
    "vMonth = ntime.month\n",
    "vDay = ntime.day\n",
    "vHour = ntime.hour\n",
    "vMinute = ntime.minute\n",
    "document = Document()\n",
    "\n",
    "vDivision = 'S3 list'\n",
    "vName = 's3-list-python'\n",
    "document.add_heading(vDivision,0)\n",
    "document.add_heading(vName,1)\n",
    "\n",
    "def humanbytes(B):\n",
    "    B =  float(B)\n",
    "    KiB = float(1024)\n",
    "    MiB = float(KiB ** 2)\n",
    "    GiB = float(KiB ** 3)\n",
    "    TiB = float(KiB ** 4)\n",
    "\n",
    "    if B < KiB:\n",
    "        return '{0} {1}'.format(B, 'Bytes' if 0 == B > 1 else 'Byte')\n",
    "    elif KiB <= B < MiB:\n",
    "        return '{0:.2f} KiB'.format(B / KiB)\n",
    "    elif MiB <= B < GiB:\n",
    "        return '{0:.2f} MiB'.format(B / MiB)\n",
    "    elif GiB <= B < TiB:\n",
    "        return '{0:.2f} GiB'.format(B / GiB)\n",
    "    elif TiB <= B:\n",
    "        return '{0:.2f} KiB'.format(B / TiB)\n",
    "#    print('{0} == {1}'.format(t, humanbytes(t)))\n",
    "\n",
    "#     humanbytes(110000)\n",
    "#     humanbytes(11)\n",
    "\n",
    "document.add_heading('s3현황',level =1)\n",
    "tables3info = document.add_table(rows=1,cols=5)\n",
    "tables3info.style = 'Table Grid'\n",
    "hrd_cells = tables3info.rows[0].cells\n",
    "hrd_cells[0].text = 'NUM'\n",
    "hrd_cells[1].text = 'S3명'\n",
    "hrd_cells[2].text = '생성일자'\n",
    "hrd_cells[3].text = '파일개수'\n",
    "hrd_cells[4].text = '전체크기(MiB)'\n",
    "s3infoNum = 0\n",
    "\n",
    "default_session= boto3.session.Session(profile_name='soyeon-cli')\n",
    "s3_res=default_session.resource(service_name='s3', region_name='ap-northeast-2')\n",
    "for each_bucket in s3_res.buckets.all():\n",
    "    try:\n",
    "        s3infoNum = s3infoNum + 1\n",
    "        bucket_name = each_bucket.name\n",
    "        bucket_created_date = each_bucket.creation_date\n",
    "        print(bucket_name)\n",
    "        print(bucket_created_date)\n",
    "        res = boto3.resource(service_name='s3')\n",
    "        bucket = res.Bucket(bucket_name)\n",
    "        bobjects = bucket.objects\n",
    "        keys = []\n",
    "        filesize = []\n",
    "        sum = 0\n",
    "        for ba in bobjects.all():\n",
    "            filesize.append(ba.size)\n",
    "        for s in range(0, len(filesize)):\n",
    "         #   print(s)\n",
    "            sum = sum + filesize[s]\n",
    "           # sum = round(sum,2)\n",
    "        row_cells = tables3info.add_row().cells\n",
    "        row_cells[0].text = str(s3infoNum)\n",
    "        row_cells[1].text = bucket_name\n",
    "        row_cells[2].text = bucket_created_date.strftime(\"%y/%m/%d %H:%M:%S\")\n",
    "        row_cells[3].text = str(s)\n",
    "        row_cells[4].text = str(humanbytes(sum))\n",
    "        print(humanbytes(sum))\n",
    "    except Exception as e:\n",
    "        print(\"Error\")\n",
    "\n",
    "\n",
    "document.add_page_break()\n",
    "\n",
    "document.save(vDivision +'.docx')"
   ]
  }
 ],
 "metadata": {
  "kernelspec": {
   "display_name": "Python 3",
   "language": "python",
   "name": "python3"
  },
  "language_info": {
   "codemirror_mode": {
    "name": "ipython",
    "version": 3
   },
   "file_extension": ".py",
   "mimetype": "text/x-python",
   "name": "python",
   "nbconvert_exporter": "python",
   "pygments_lexer": "ipython3",
   "version": "3.7.4"
  }
 },
 "nbformat": 4,
 "nbformat_minor": 2
}
