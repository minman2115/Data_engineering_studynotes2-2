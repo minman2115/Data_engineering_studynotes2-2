{
 "cells": [
  {
   "cell_type": "code",
   "execution_count": 2,
   "metadata": {},
   "outputs": [
    {
     "name": "stdout",
     "output_type": "stream",
     "text": [
      "[]\n"
     ]
    }
   ],
   "source": [
    "import boto3\n",
    "cloudwatch = boto3.client('cloudwatch')\n",
    "paginator = cloudwatch.get_paginator('list_metrics')\n",
    "for response in paginator.paginate(Namespace = 'AWS/EC2'):\n",
    "    print(response['Metrics'])"
   ]
  },
  {
   "cell_type": "code",
   "execution_count": 3,
   "metadata": {},
   "outputs": [
    {
     "name": "stdout",
     "output_type": "stream",
     "text": [
      "26.2\n"
     ]
    }
   ],
   "source": [
    "import psutil\n",
    "\n",
    "vmem = psutil.virtual_memory()\n",
    "print(vmem.percent)"
   ]
  },
  {
   "cell_type": "code",
   "execution_count": null,
   "metadata": {},
   "outputs": [],
   "source": [
    "import boto3\n",
    "import psutil\n",
    "vmem = psutil.virtual_memory()\n",
    "\n",
    "cloudwatch.put_metric_data(\n",
    "    MetricData = [\n",
    "        {\n",
    "            'MetricName' : 'Memory Usage',\n",
    "            'Dimensions' : [\n",
    "                {\n",
    "                    'Name' : 'Demension Name',\n",
    "                    'Value' : '%'\n",
    "                },\n",
    "            ],\n",
    "            'Unit' : 'None',\n",
    "            'Value' : vmem.percent\n",
    "        },\n",
    "    ],\n",
    "    Namespace = 'CUSTOMEC2/Memory'\n",
    ")"
   ]
  },
  {
   "cell_type": "code",
   "execution_count": null,
   "metadata": {},
   "outputs": [],
   "source": [
    "while True:\n",
    "    import boto3\n",
    "    import psutil\n",
    "    \n",
    "    vmem = psutil.virtual_memory()\n",
    "    print(vmem.percent)\n",
    "    \n",
    "    cloudwatch = boto3.client('cloudwatch')\n",
    "    \n",
    "    cloudwatch.put_metric_data(\n",
    "    MetricData =[\n",
    "        {\n",
    "            'MetricName' : 'Memory Usage',\n",
    "            'Dimensions' : [\n",
    "                {\n",
    "                    'Name' : 'Demension Name',\n",
    "                    'Value' : '%'\n",
    "                },\n",
    "            ],\n",
    "            'Unit' : 'None',\n",
    "            'Value' : vmem.percent\n",
    "        },\n",
    "    ],\n",
    "    Namespace = 'CUSTOMEC2/Memory'\n",
    "    )\n",
    "    \n",
    "    from time import sleep\n",
    "    sleep(60)"
   ]
  },
  {
   "cell_type": "code",
   "execution_count": null,
   "metadata": {},
   "outputs": [],
   "source": [
    "import boto3\n",
    "import pprint\n",
    "\n",
    "session = boto3.session.Session(profile_name = 'default')\n",
    "cw_logs = session.client(service_name = 'logs', region_name = 'ap-northeast-2')\n",
    "print(pprint.pprint(cw_logs.describe_log_groups()))"
   ]
  },
  {
   "cell_type": "code",
   "execution_count": null,
   "metadata": {},
   "outputs": [],
   "source": [
    "import boto3\n",
    "import pprint\n",
    "\n",
    "session = boto3.session.Session(profile_name = 'default')\n",
    "cw_logs = session.client(service_name = 'logs', region_name = 'ap-northeast-2')\n",
    "logs_paginator = cw_logs.get_paginator('describe_log_groups')\n",
    "page_iterator = logs_paginator.paginate()\n",
    "\n",
    "for page in page_iterator:\n",
    "    try:\n",
    "        print(pprint.pprint(page['logGroups']).get('logGroupName'))\n",
    "    except Exception as e:\n",
    "        print(e)"
   ]
  },
  {
   "cell_type": "code",
   "execution_count": null,
   "metadata": {},
   "outputs": [],
   "source": [
    "import boto3\n",
    "cloudwatch = boto3.client('cloudwatch', region_name='ap-northeast-2')\n",
    "json = '{ \\\n",
    "      \"width\":600, \\\n",
    "      \"height\":395, \\\n",
    "      \"metrics\":[ \\\n",
    "         [ \\\n",
    "            \"AWS/EC2\", \\\n",
    "            \"CPUUtilization\", \\\n",
    "            \"InstanceId\", \\\n",
    "            \"i-0847f9d92855bb54b\", \\\n",
    "            { \\\n",
    "               \"stat\":\"Average\" \\\n",
    "            } \\\n",
    "         ] \\\n",
    "      ], \\\n",
    "      \"period\":300, \\\n",
    "      \"start\":\"2020-01-05T00:00:00\", \\\n",
    "      \"end\":\"2020-01-07T23:59:59\", \\\n",
    "      \"stacked\":false, \\\n",
    "      \"yAxis\":{ \\\n",
    "         \"left\":{ \\\n",
    "            \"min\":1, \\\n",
    "            \"max\":100 \\\n",
    "         }, \\\n",
    "         \"right\":{ \\\n",
    "            \"min\":0 \\\n",
    "         } \\\n",
    "      }, \\\n",
    "      \"title\":\"CPU Utilization\", \\\n",
    "      \"annotations\":{ \\\n",
    "         \"horizontal\":[ \\\n",
    "            { \\\n",
    "               \"color\":\"#ff6961\", \\\n",
    "               \"label\":\"Trouble threshold start\", \\\n",
    "               \"fill\":\"above\", \\\n",
    "               \"value\":80 \\\n",
    "            } \\\n",
    "         ], \\\n",
    "         \"vertical\":[ \\\n",
    "            { \\\n",
    "               \"visible\":true, \\\n",
    "               \"color\":\"#9467bd\", \\\n",
    "               \"label\":\"Bug fix deployed\", \\\n",
    "               \"value\":\"2019-10-15T15:25:26Z\", \\\n",
    "               \"fill\":\"after\" \\\n",
    "            } \\\n",
    "         ] \\\n",
    "      } \\\n",
    "   }'\n",
    "response = cloudwatch.get_metric_widget_image(MetricWidget=json)\n",
    "with open ('custom10.png', 'wb') as f:\n",
    "    f.write(response[\"MetricWidgetImage\"])"
   ]
  },
  {
   "cell_type": "code",
   "execution_count": 12,
   "metadata": {},
   "outputs": [
    {
     "name": "stdout",
     "output_type": "stream",
     "text": [
      "{'logGroupName': '/aws-glue/crawlers', 'creationTime': 1569656201811, 'metricFilterCount': 0, 'arn': 'arn:aws:logs:ap-northeast-2:161461013751:log-group:/aws-glue/crawlers:*', 'storedBytes': 17109}\n",
      "/aws-glue/crawlers\n",
      "16.71 KiB\n",
      "0\n",
      "{'logGroupName': '/aws-glue/testconnection/output/datalab-rds', 'creationTime': 1569655653024, 'metricFilterCount': 0, 'arn': 'arn:aws:logs:ap-northeast-2:161461013751:log-group:/aws-glue/testconnection/output/datalab-rds:*', 'storedBytes': 1783}\n",
      "/aws-glue/testconnection/output/datalab-rds\n",
      "1.74 KiB\n",
      "0\n",
      "{'logGroupName': '/aws/codebuild/build-web', 'creationTime': 1571017068743, 'metricFilterCount': 0, 'arn': 'arn:aws:logs:ap-northeast-2:161461013751:log-group:/aws/codebuild/build-web:*', 'storedBytes': 8116}\n",
      "/aws/codebuild/build-web\n",
      "7.93 KiB\n",
      "0\n",
      "{'logGroupName': '/aws/codebuild/web-build', 'creationTime': 1571012662516, 'metricFilterCount': 0, 'arn': 'arn:aws:logs:ap-northeast-2:161461013751:log-group:/aws/codebuild/web-build:*', 'storedBytes': 70183}\n",
      "/aws/codebuild/web-build\n",
      "68.54 KiB\n",
      "0\n",
      "{'logGroupName': '/aws/codebuild/web-build-3', 'creationTime': 1566034147096, 'metricFilterCount': 0, 'arn': 'arn:aws:logs:ap-northeast-2:161461013751:log-group:/aws/codebuild/web-build-3:*', 'storedBytes': 57615}\n",
      "/aws/codebuild/web-build-3\n",
      "56.26 KiB\n",
      "0\n",
      "{'logGroupName': '/aws/codebuild/web-build-test', 'creationTime': 1566030872328, 'metricFilterCount': 0, 'arn': 'arn:aws:logs:ap-northeast-2:161461013751:log-group:/aws/codebuild/web-build-test:*', 'storedBytes': 638}\n",
      "/aws/codebuild/web-build-test\n",
      "638.0 Byte\n",
      "0\n",
      "{'logGroupName': '/aws/codebuild/web-build2', 'creationTime': 1566031914831, 'metricFilterCount': 0, 'arn': 'arn:aws:logs:ap-northeast-2:161461013751:log-group:/aws/codebuild/web-build2:*', 'storedBytes': 1279}\n",
      "/aws/codebuild/web-build2\n",
      "1.25 KiB\n",
      "0\n",
      "{'logGroupName': '/aws/lambda/android-realtime-lambda', 'creationTime': 1561548257931, 'metricFilterCount': 0, 'arn': 'arn:aws:logs:ap-northeast-2:161461013751:log-group:/aws/lambda/android-realtime-lambda:*', 'storedBytes': 16112}\n",
      "/aws/lambda/android-realtime-lambda\n",
      "15.73 KiB\n",
      "0\n",
      "{'logGroupName': '/aws/sagemaker/NotebookInstances', 'creationTime': 1569894199003, 'metricFilterCount': 0, 'arn': 'arn:aws:logs:ap-northeast-2:161461013751:log-group:/aws/sagemaker/NotebookInstances:*', 'storedBytes': 70620}\n",
      "/aws/sagemaker/NotebookInstances\n",
      "68.96 KiB\n",
      "0\n",
      "{'logGroupName': 'RDSOSMetrics', 'creationTime': 1570172479329, 'retentionInDays': 30, 'metricFilterCount': 0, 'arn': 'arn:aws:logs:ap-northeast-2:161461013751:log-group:RDSOSMetrics:*', 'storedBytes': 0}\n",
      "RDSOSMetrics\n",
      "0.0 Byte\n",
      "0\n"
     ]
    }
   ],
   "source": [
    "def humanbytes(B):\n",
    "    B =  float(B)\n",
    "    KiB = float(1024)\n",
    "    MiB = float(KiB ** 2)\n",
    "    GiB = float(KiB ** 3)\n",
    "    TiB = float(KiB ** 4)\n",
    "\n",
    "    if B < KiB:\n",
    "        return '{0} {1}'.format(B, 'Bytes' if 0 == B > 1 else 'Byte')\n",
    "    elif KiB <= B < MiB:\n",
    "        return '{0:.2f} KiB'.format(B / KiB)\n",
    "    elif MiB <= B < GiB:\n",
    "        return '{0:.2f} MiB'.format(B / MiB)\n",
    "    elif GiB <= B < TiB:\n",
    "        return '{0:.2f} GiB'.format(B / GiB)\n",
    "    elif TiB <= B:\n",
    "        return '{0:.2f} KiB'.format(B / TiB)\n",
    "    \n",
    "import boto3\n",
    "import pprint\n",
    "\n",
    "session = boto3.session.Session(profile_name = 'default')\n",
    "cw_logs = session.client(service_name = 'logs', region_name = 'ap-northeast-2')\n",
    "logs_paginator = cw_logs.get_paginator('describe_log_groups')\n",
    "page_iterator = logs_paginator.paginate()\n",
    "\n",
    "for page in page_iterator:\n",
    "    try:\n",
    "        for lg in page['logGroups']:\n",
    "            print(lg)\n",
    "            print(lg['logGroupName'])\n",
    "            print(humanbytes(lg['storedBytes']))\n",
    "            print(lg['metricFilterCount'])\n",
    "    except Exception as e:\n",
    "        print(e)"
   ]
  },
  {
   "cell_type": "code",
   "execution_count": 13,
   "metadata": {},
   "outputs": [],
   "source": [
    "import boto3\n",
    "\n",
    "session = boto3.session.Session(profile_name = 'default')\n",
    "elb_cli = session.client(service_name = 'elb', region_name = 'ap-northeast-2')\n",
    "response = elb_cli.describe_load_balancers()\n",
    "for response in response['LoadBalancerDescriptions']:\n",
    "    pprint.pprint(response['LoadBalncerName'])\n",
    "    ## pprint"
   ]
  },
  {
   "cell_type": "code",
   "execution_count": 14,
   "metadata": {},
   "outputs": [],
   "source": [
    "import boto3\n",
    "\n",
    "session = boto3.session.Session(profile_name = 'default')\n",
    "elb_cli = session.client(service_name = 'elb', region_name = 'ap-northeast-2')\n",
    "response = elb_cli.describe_load_balancers()\n",
    "for response in response['LoadBalancerDescriptions']:\n",
    "    print(response['LoadBalncerName'])\n",
    "    ## print"
   ]
  }
 ],
 "metadata": {
  "kernelspec": {
   "display_name": "Python 3",
   "language": "python",
   "name": "python3"
  },
  "language_info": {
   "codemirror_mode": {
    "name": "ipython",
    "version": 3
   },
   "file_extension": ".py",
   "mimetype": "text/x-python",
   "name": "python",
   "nbconvert_exporter": "python",
   "pygments_lexer": "ipython3",
   "version": "3.7.4"
  }
 },
 "nbformat": 4,
 "nbformat_minor": 2
}
