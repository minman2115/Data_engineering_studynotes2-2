{
 "cells": [
  {
   "cell_type": "code",
   "execution_count": 1,
   "metadata": {
    "ExecuteTime": {
     "end_time": "2019-12-02T06:25:57.533677Z",
     "start_time": "2019-12-02T06:25:56.898459Z"
    },
    "scrolled": true
   },
   "outputs": [
    {
     "name": "stdout",
     "output_type": "stream",
     "text": [
      "{'Regions': [{'Endpoint': 'ec2.eu-north-1.amazonaws.com', 'RegionName': 'eu-north-1', 'OptInStatus': 'opt-in-not-required'}, {'Endpoint': 'ec2.ap-south-1.amazonaws.com', 'RegionName': 'ap-south-1', 'OptInStatus': 'opt-in-not-required'}, {'Endpoint': 'ec2.eu-west-3.amazonaws.com', 'RegionName': 'eu-west-3', 'OptInStatus': 'opt-in-not-required'}, {'Endpoint': 'ec2.eu-west-2.amazonaws.com', 'RegionName': 'eu-west-2', 'OptInStatus': 'opt-in-not-required'}, {'Endpoint': 'ec2.eu-west-1.amazonaws.com', 'RegionName': 'eu-west-1', 'OptInStatus': 'opt-in-not-required'}, {'Endpoint': 'ec2.ap-northeast-2.amazonaws.com', 'RegionName': 'ap-northeast-2', 'OptInStatus': 'opt-in-not-required'}, {'Endpoint': 'ec2.ap-northeast-1.amazonaws.com', 'RegionName': 'ap-northeast-1', 'OptInStatus': 'opt-in-not-required'}, {'Endpoint': 'ec2.sa-east-1.amazonaws.com', 'RegionName': 'sa-east-1', 'OptInStatus': 'opt-in-not-required'}, {'Endpoint': 'ec2.ca-central-1.amazonaws.com', 'RegionName': 'ca-central-1', 'OptInStatus': 'opt-in-not-required'}, {'Endpoint': 'ec2.ap-southeast-1.amazonaws.com', 'RegionName': 'ap-southeast-1', 'OptInStatus': 'opt-in-not-required'}, {'Endpoint': 'ec2.ap-southeast-2.amazonaws.com', 'RegionName': 'ap-southeast-2', 'OptInStatus': 'opt-in-not-required'}, {'Endpoint': 'ec2.eu-central-1.amazonaws.com', 'RegionName': 'eu-central-1', 'OptInStatus': 'opt-in-not-required'}, {'Endpoint': 'ec2.us-east-1.amazonaws.com', 'RegionName': 'us-east-1', 'OptInStatus': 'opt-in-not-required'}, {'Endpoint': 'ec2.us-east-2.amazonaws.com', 'RegionName': 'us-east-2', 'OptInStatus': 'opt-in-not-required'}, {'Endpoint': 'ec2.us-west-1.amazonaws.com', 'RegionName': 'us-west-1', 'OptInStatus': 'opt-in-not-required'}, {'Endpoint': 'ec2.us-west-2.amazonaws.com', 'RegionName': 'us-west-2', 'OptInStatus': 'opt-in-not-required'}], 'ResponseMetadata': {'RequestId': 'd45a29d7-4d00-4611-8ddd-7282f4c16b51', 'HTTPStatusCode': 200, 'HTTPHeaders': {'content-type': 'text/xml;charset=UTF-8', 'content-length': '3655', 'vary': 'accept-encoding', 'date': 'Mon, 02 Dec 2019 07:16:13 GMT', 'server': 'AmazonEC2'}, 'RetryAttempts': 0}}\n"
     ]
    }
   ],
   "source": [
    "import boto3\n",
    "ec2_cli = boto3.client('ec2')\n",
    "print(ec2_cli.describe_regions())"
   ]
  },
  {
   "cell_type": "code",
   "execution_count": null,
   "metadata": {
    "ExecuteTime": {
     "end_time": "2019-12-02T06:26:03.068739Z",
     "start_time": "2019-12-02T06:26:03.011326Z"
    }
   },
   "outputs": [],
   "source": [
    "import pprint\n",
    "pprint.pprint(ec2_cli.describe_regions())"
   ]
  },
  {
   "cell_type": "code",
   "execution_count": 3,
   "metadata": {
    "ExecuteTime": {
     "end_time": "2019-12-02T06:26:06.468869Z",
     "start_time": "2019-12-02T06:26:06.420999Z"
    }
   },
   "outputs": [
    {
     "name": "stdout",
     "output_type": "stream",
     "text": [
      "eu-north-1\n",
      "ap-south-1\n",
      "eu-west-3\n",
      "eu-west-2\n",
      "eu-west-1\n",
      "ap-northeast-2\n",
      "ap-northeast-1\n",
      "sa-east-1\n",
      "ca-central-1\n",
      "ap-southeast-1\n",
      "ap-southeast-2\n",
      "eu-central-1\n",
      "us-east-1\n",
      "us-east-2\n",
      "us-west-1\n",
      "us-west-2\n"
     ]
    }
   ],
   "source": [
    "for region in ec2_cli.describe_regions()['Regions']:\n",
    "    print(region['RegionName'])"
   ]
  },
  {
   "cell_type": "code",
   "execution_count": null,
   "metadata": {
    "ExecuteTime": {
     "end_time": "2019-12-02T06:26:08.901959Z",
     "start_time": "2019-12-02T06:26:08.401336Z"
    }
   },
   "outputs": [],
   "source": [
    "ec2client = boto3.client('ec2')\n",
    "response = ec2client.describe_instances()\n",
    "for reservation in response['Reservations']:\n",
    "    for instance in reservation['Instances']:\n",
    "        pprint.pprint(instance)"
   ]
  },
  {
   "cell_type": "code",
   "execution_count": 5,
   "metadata": {
    "ExecuteTime": {
     "end_time": "2019-12-02T06:37:05.476996Z",
     "start_time": "2019-12-02T06:37:05.209710Z"
    }
   },
   "outputs": [
    {
     "name": "stdout",
     "output_type": "stream",
     "text": [
      "i-0b816295697f971fd {'CoreCount': 1, 'ThreadsPerCore': 1} [{'Key': 'Name', 'Value': 'docker_test'}]\n"
     ]
    }
   ],
   "source": [
    "ec2client = boto3.client('ec2')\n",
    "response = ec2client.describe_instances()\n",
    "for reservation in response['Reservations']:\n",
    "    for instance in reservation['Instances']:\n",
    "        try:\n",
    "            print(instance['InstanceId'], instance['CpuOptions'], instance['Tags']) #instance['Tags']\n",
    "        except:\n",
    "            print()"
   ]
  },
  {
   "cell_type": "code",
   "execution_count": 6,
   "metadata": {
    "ExecuteTime": {
     "end_time": "2019-12-02T06:54:46.536598Z",
     "start_time": "2019-12-02T06:54:46.228422Z"
    }
   },
   "outputs": [
    {
     "name": "stdout",
     "output_type": "stream",
     "text": [
      "minman_test 2019-12-01 23:57:29+00:00 172.31.21.164\n"
     ]
    }
   ],
   "source": [
    "ec2client = boto3.client('ec2')\n",
    "response = ec2client.describe_instances()\n",
    "for reservation in response['Reservations']:\n",
    "    for instance in reservation['Instances']:\n",
    "        try:\n",
    "            print(instance['KeyName'], instance['LaunchTime'], instance['PrivateIpAddress']) #instance['Tags']\n",
    "        except:\n",
    "            print()"
   ]
  },
  {
   "cell_type": "code",
   "execution_count": null,
   "metadata": {},
   "outputs": [],
   "source": [
    "import boto3\n",
    "\n",
    "session = boto3.session.Session(profile_name=\"default\")\n",
    "ec2 = session.resource(service_name=\"ec2\",region_name=\"ap-northeast-2\")\n",
    "\n",
    "vpc = ec2.create_vpc(CidrBlock=\"10.105.0.0/16\")\n",
    "print(vpc)\n",
    "\n",
    "vpc.create_tags(Tags=[{\"Key\":\"Name\",\"Value\":\"minman2115_vpc\"}])\n",
    "vpc.wait_until_available()"
   ]
  },
  {
   "cell_type": "code",
   "execution_count": null,
   "metadata": {},
   "outputs": [],
   "source": [
    "ec2_cli = session.client(service_name=\"ec2\",region_name=\"ap-northeast-2\")\n",
    "ec2_cli.modify_vpc_attribute(VpcId = vpc.id, EnableDnsSupport = {\"Value\":True})\n",
    "ec2_cli.modify_vpc_attribute(VpcId = vpc.id, EnableDnsHostnames = {\"Value\":True})"
   ]
  },
  {
   "cell_type": "code",
   "execution_count": null,
   "metadata": {},
   "outputs": [],
   "source": [
    "internetgateway = ec2.create_internet_gateway()\n",
    "vpc.attach_internet_gateway(InternetGatewayId=internetgateway.id)\n",
    "\n",
    "internetgateway.create_tags(Tags=[{\"Key\":\"Name\",\"Value\":\"minman2115_igw\"}])"
   ]
  },
  {
   "cell_type": "code",
   "execution_count": null,
   "metadata": {},
   "outputs": [],
   "source": [
    "routetable = vpc.create_route_table()\n",
    "route = routetable.create_route(DestinationCidrBlock='0.0.0.0/0',GatewayId=internetgateway.id)\n",
    "\n",
    "routetable.create_tags(Tags=[{\"Key\":\"Name\",\"Value\":\"minman2115_rt\"}])"
   ]
  },
  {
   "cell_type": "code",
   "execution_count": null,
   "metadata": {},
   "outputs": [],
   "source": [
    "subnet = ec2.create_subnet(CidrBlock='10.105.0.0/24',VpcId=vpc.id)\n",
    "route_id = routetable.associate_with_subnet(SubnetId=subnet.id)\n",
    "print(route_id)\n",
    "\n",
    "subnet.create_tags(Tags=[{\"Key\":\"Name\",\"Value\":\"minman2115_PRzone\"}])"
   ]
  },
  {
   "cell_type": "code",
   "execution_count": null,
   "metadata": {},
   "outputs": [],
   "source": [
    "securitygroup = ec2.create_security_group(GroupName=\"minman2115_sg\",Description='only allow SSH traffic',VpcId=vpc.id)\n",
    "\n",
    "securitygroup.authorize_ingress(CidrIp='0.0.0.0/0',IpProtocol='tcp',FromPort=22,ToPort=22)\n",
    "securitygroup.authorize_ingress(CidrIp='0.0.0.0/0',IpProtocol='tcp',FromPort=80,ToPort=80)\n",
    "securitygroup.authorize_ingress(CidrIp='0.0.0.0/0',IpProtocol='tcp',FromPort=65000,ToPort=65100)\n",
    "\n",
    "securitygroup.create_tags(Tags=[{\"Key\":\"Name\",\"Value\":\"minman2115_sg\"}])"
   ]
  },
  {
   "cell_type": "code",
   "execution_count": null,
   "metadata": {},
   "outputs": [],
   "source": [
    "outfile = open('xxxxxxxxxxx.pem','w')\n",
    "print(outfile)\n",
    "\n",
    "key_pair = ec2.create_key_pair(KeyName=\"xxxxxxxxxx\")\n",
    "print(key_pair)\n",
    "\n",
    "KeyPairOut = str(key_pair.key_material)\n",
    "outfile.write(KeyPairOut)\n",
    "print(KeyPairOut)"
   ]
  },
  {
   "cell_type": "code",
   "execution_count": null,
   "metadata": {},
   "outputs": [],
   "source": [
    "instances = ec2.create_instances(\n",
    "ImageId = 'ami-0d59ddf55cdda6e21',\n",
    "InstanceType='t2.micro',\n",
    "MaxCount = 1,\n",
    "MinCount = 1,\n",
    "NetworkInterfaces=[{\n",
    "'SubnetId' : subnet.id,\n",
    "'DeviceIndex' : 0,\n",
    "'AssociatePublicIpAddress':True,\n",
    "'Groups':[securitygroup.group_id],    \n",
    "}],\n",
    "KeyName = 'xxxxxxxxxx')\n",
    "\n",
    "print(instances)"
   ]
  }
 ],
 "metadata": {
  "kernelspec": {
   "display_name": "Python 3",
   "language": "python",
   "name": "python3"
  },
  "language_info": {
   "codemirror_mode": {
    "name": "ipython",
    "version": 3
   },
   "file_extension": ".py",
   "mimetype": "text/x-python",
   "name": "python",
   "nbconvert_exporter": "python",
   "pygments_lexer": "ipython3",
   "version": "3.7.4"
  },
  "varInspector": {
   "cols": {
    "lenName": 16,
    "lenType": 16,
    "lenVar": 40
   },
   "kernels_config": {
    "python": {
     "delete_cmd_postfix": "",
     "delete_cmd_prefix": "del ",
     "library": "var_list.py",
     "varRefreshCmd": "print(var_dic_list())"
    },
    "r": {
     "delete_cmd_postfix": ") ",
     "delete_cmd_prefix": "rm(",
     "library": "var_list.r",
     "varRefreshCmd": "cat(var_dic_list()) "
    }
   },
   "types_to_exclude": [
    "module",
    "function",
    "builtin_function_or_method",
    "instance",
    "_Feature"
   ],
   "window_display": false
  }
 },
 "nbformat": 4,
 "nbformat_minor": 2
}
