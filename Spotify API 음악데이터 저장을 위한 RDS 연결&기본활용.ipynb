{
 "cells": [
  {
   "cell_type": "markdown",
   "metadata": {},
   "source": [
    ".\n",
    "\n",
    "Data_Engineering_TIL(20200530)\n",
    "\n",
    "[참고사항]\n",
    "\n",
    "- 'Spotify API를 이용한 인증 및 음악데이터 조회'를 이어서 참고할 것\n",
    "\n",
    "\n",
    "- URL : https://minman2115.github.io/DE_TIL80/\n",
    "\n",
    "[학습내용]\n",
    "\n",
    "- 먼저 Mysql RDS를 생성하고 아래와 같이 코드를 작성하고 RDS와 연결이 잘 되는지 테스트해본다.\n",
    "\n",
    "\n",
    "- 실행결과로 \"connect success\" 를 확인할 수 있다."
   ]
  },
  {
   "cell_type": "code",
   "execution_count": null,
   "metadata": {},
   "outputs": [],
   "source": [
    "import sys\n",
    "import requests\n",
    "import base64\n",
    "import json\n",
    "import logging\n",
    "import pymysql\n",
    "\n",
    "# 아래 세줄의 코드가 없으면 이 전체 코드의 실행결과 시\n",
    "# UnicodeEncodeError: 'cp949' codec can't encode character '\\u2013' in position 33:\n",
    "# illegal multibyte sequence 애러발생하기 때문에 추가한 것임\n",
    "import io\n",
    "sys.stdout = io.TextIOWrapper(sys.stdout.detach(), encoding = 'utf-8')\n",
    "sys.stderr = io.TextIOWrapper(sys.stderr.detach(), encoding = 'utf-8')\n",
    "\n",
    "host = \"[RDS endpoint]\"\n",
    "port = 3306\n",
    "username = \"admin\"\n",
    "database = \"pmstest\"\n",
    "password = \"xxxxxxxxxxxxxxxxxxxxxxxxxxxxxxxx\"\n",
    "\n",
    "client_id = \"xxxxxxxxxxxxxxxxxxxxxxxxxxxx\"\n",
    "client_secret = \"xxxxxxxxxxxxxxxxxxxxxxxxxxxxxxxx\"\n",
    "\n",
    "def main():\n",
    "\n",
    "    try :\n",
    "        conn = pymysql.connect(host, user = username, passwd = password, db = database, port = port, use_unicode = True)\n",
    "        cursor = conn.cursor()\n",
    "\n",
    "    except :\n",
    "        logging.error(\"could not connect to RDS\")\n",
    "        sys.exit(1) # 일반적으로 오류가 발생하면 exit 1을 주는 편이다.\n",
    "\n",
    "    print(\"connect success\")\n",
    "    sys.exit(0)\n",
    "\n",
    "if __name__=='__main__':\n",
    "    main()"
   ]
  },
  {
   "cell_type": "markdown",
   "metadata": {},
   "source": [
    "- 아래 그림과 같이 RDS에 다음과 같은 데이터 모델을 만들것이다.\n",
    "\n",
    "![1](https://user-images.githubusercontent.com/41605276/83326721-3b898200-a2b1-11ea-83b1-aa03607820f6.jpg)\n",
    "\n",
    "그래서 DBeaver에서 RDS로 접속하고, 아래와 같은 쿼리로 테이블들을 만들어준다."
   ]
  },
  {
   "cell_type": "code",
   "execution_count": null,
   "metadata": {},
   "outputs": [],
   "source": [
    "create table pmstest.artists (\n",
    "id VARCHAR(255), \n",
    "name VARCHAR(255), \n",
    "followers INTEGER, \n",
    "popularity INTEGER, \n",
    "url VARCHAR(255), \n",
    "image_url  VARCHAR(255), \n",
    "PRIMARY KEY(id)\n",
    ") \n",
    "ENGINE = InnoDB\n",
    "DEFAULT CHARSET = 'utf8';\n",
    "\n",
    "create table pmstest.artist_genres (\n",
    "artist_id VARCHAR(255), \n",
    "genre VARCHAR(255)\n",
    ") \n",
    "ENGINE = InnoDB\n",
    "DEFAULT CHARSET = 'utf8';\n",
    "\n",
    "show create table pmstest.artists ; ## artists table 정보 확인\n",
    "show create table pmstest.artist_genres ;"
   ]
  },
  {
   "cell_type": "markdown",
   "metadata": {},
   "source": [
    "그러면 아티스트 장르 테이블에 데이터를 넣어보자\n",
    "\n",
    "아래와 같은 쿼리를 날려서 임의의 데이터를 insert 한다.\n",
    "\n",
    "그리고 실렉트 데이터를 하면 데이터가 잘 들어간것을 확인할 수 있다."
   ]
  },
  {
   "cell_type": "code",
   "execution_count": null,
   "metadata": {},
   "outputs": [],
   "source": [
    "insert into pmstest.artist_genres (artist_id, genre) VALUES('1234', 'pop');\n",
    "\n",
    "select * from pmstest.artist_genres;"
   ]
  },
  {
   "cell_type": "markdown",
   "metadata": {},
   "source": [
    "그리고 `insert into pmstest.artist_genres (artist_id, genre) VALUES('1234', 'pop');`를 한번 더하면 이 데이터가 두개가 들어간 것을 확인할 수 있다.\n",
    "\n",
    "아티스트 장르 테이블은 데이터가 추가되겠지만 위와 같이 중복데이터가 들어가는 것이 좋지 않다.\n",
    "\n",
    "우리가 이 테이블에 데이터를 집어 넣는 것을 구현을 한다면 이런 중복데이터가 생기지 않도록 관리를 해줘야 한다.\n",
    "\n",
    "일단 지금 만든 아티스트 장르 테이블에서 아래와 같은 쿼리로 모든 레코드를 지워준다.\n",
    "\n",
    "`delete from pmstest.artist_genres;`\n",
    "\n",
    "그리고 아티스트 장르 테이블을 지워준다.\n",
    "\n",
    "`drop table pmstest.artist_genres;`\n",
    "\n",
    "그런 다음에 아래 쿼리와 같이 유니크 키로 아티스트 아이디랑 장르를 추가해서 테이블을 다시 만들어준다."
   ]
  },
  {
   "cell_type": "code",
   "execution_count": null,
   "metadata": {},
   "outputs": [],
   "source": [
    "create table pmstest.artist_genres (\n",
    "artist_id VARCHAR(255), \n",
    "genre VARCHAR(255),\n",
    "UNIQUE KEY(artist_id,genre)\n",
    ") \n",
    "ENGINE = InnoDB\n",
    "DEFAULT CHARSET = 'utf8';"
   ]
  },
  {
   "cell_type": "markdown",
   "metadata": {},
   "source": [
    "그런 다음에 아래와 같은 쿼리로 데이터를 넣어본다."
   ]
  },
  {
   "cell_type": "code",
   "execution_count": null,
   "metadata": {},
   "outputs": [],
   "source": [
    "insert into pmstest.artist_genres (artist_id, genre) VALUES('1234', 'pop');"
   ]
  },
  {
   "cell_type": "markdown",
   "metadata": {},
   "source": [
    "처음 한번은 잘 들어가지는데 이 쿼리를 다시 실행해서 데이터를 또 넣으면 아래와 같은 애러가 나는 것을 확인할 수 있다.\n",
    "\n",
    "`SQL Error [1062] [23000]: Duplicate entry '1234-pop' for key 'artist_id'`\n",
    "\n",
    "이렇게 해서 중복데이터를 방지할 수 있다.\n",
    "\n",
    "그러나 우리는 파이썬으로 지속적으로 데이터를 넣어줄 것인데 이렇게 애러가 뜨면 스크립트가 멈추기 때문에 이를 막기위한 방법을 강구해줘야 한다. \n",
    "\n",
    "그러면 update 쿼리를 아래와 같이 하게 되면 artist id를 기준으로 하나만 업데이트 되는 것을 확인할 수 있다."
   ]
  },
  {
   "cell_type": "code",
   "execution_count": null,
   "metadata": {},
   "outputs": [],
   "source": [
    "update pmstest.artist_genres SET genre='pop' where artist_id ='1234';"
   ]
  },
  {
   "cell_type": "markdown",
   "metadata": {},
   "source": [
    "replace를 하기전에 아래와 같은 쿼리로 컬럼을 몇개 추가해보자 "
   ]
  },
  {
   "cell_type": "code",
   "execution_count": null,
   "metadata": {},
   "outputs": [],
   "source": [
    "alter table pmstest.artist_genres ADD COLUMN country VARCHAR(255);\n",
    "\n",
    "alter table pmstest.artist_genres ADD COLUMN updated_at TIMESTAMP DEFAULT CURRENT_TIMESTAMP ON UPDATE CURRENT_TIMESTAMP; \n",
    "## 언제 데이터가 업데이트 되었는지 데이터 거버넌스를 위한 컬럼"
   ]
  },
  {
   "cell_type": "markdown",
   "metadata": {},
   "source": [
    "그리고 show table을 하면 아래와 같이 우리가 원하는 컬럼이 잘 추가된 것을 확인할 수 있다.\n",
    "\n",
    "![image](https://user-images.githubusercontent.com/41605276/83327387-590d1a80-a2b6-11ea-90a8-ce56642e7296.png)\n",
    "\n",
    "그런 다음에 UK를 포함한 데이터를 아래와 같은 쿼리를 이용해서 insert를 해본다."
   ]
  },
  {
   "cell_type": "code",
   "execution_count": null,
   "metadata": {},
   "outputs": [],
   "source": [
    "insert into pmstest.artist_genres (artist_id, genre, country) VALUES('1234', 'pop', 'UK');"
   ]
  },
  {
   "cell_type": "markdown",
   "metadata": {},
   "source": [
    "아래 그림과 같이 역시 중복으로 오류가 난다.\n",
    "\n",
    "`SQL Error [1062] [23000]: Duplicate entry '1234-pop' for key 'artist_id'`\n",
    "\n",
    "그러면 REPLACE를 아래와 같은 쿼리로 해보자"
   ]
  },
  {
   "cell_type": "code",
   "execution_count": null,
   "metadata": {},
   "outputs": [],
   "source": [
    "REPLACE INTO pmstest.artist_genres(artist_id, genre, country) VALUES('1234','pop','UK');"
   ]
  },
  {
   "cell_type": "markdown",
   "metadata": {},
   "source": [
    "그러면 정상적으로 replace 되는 것을 확인할 수 있다.\n",
    "\n",
    "![image](https://user-images.githubusercontent.com/41605276/83327462-0e3fd280-a2b7-11ea-96d0-fdf876989dc1.png)\n",
    "\n",
    "그런데 위에 그림과 같이 2 rows affected를 확인할 수 있는데 replace는 데이터가 있으면 그 키값을 찾는다.\n",
    "\n",
    "데이터가 없으면 바로 인서트를 하게되고, 키값이 있으면 데이터를 지우고 새로 다시 추가하게 되는 방식이다.\n",
    "\n",
    "그러면 아래와 같이 다시 replace를 해본다."
   ]
  },
  {
   "cell_type": "code",
   "execution_count": null,
   "metadata": {},
   "outputs": [],
   "source": [
    "REPLACE INTO pmstest.artist_genres(artist_id, genre, country) VALUES('1234','rock','UK');"
   ]
  },
  {
   "cell_type": "markdown",
   "metadata": {},
   "source": [
    "그러면 정상적으로 실행이되고 1 row affected 가 되는 것을 확인할 수 있다.\n",
    "\n",
    "그런다음에 select 레코드를 하게되면 아래와 같이 두개의 레코드가 들어간 것을 확인할 수 있다.\n",
    "\n",
    "![image](https://user-images.githubusercontent.com/41605276/83327534-91f9bf00-a2b7-11ea-8afb-46b0f5e08ddd.png)\n",
    "\n",
    "replace는 어떤 데이터를 바로 업데이트 하는 것이 아니라 지우고 넣는 방식이 때문에 퍼포먼스 이슈가 있을 수 있다.\n",
    "\n",
    "만약에 예를 들어서 id를 auto_increment(자동으로 1,2,3,4,... 순서대로 id가 부여되는 방식)방식이라고 가정하자.\n",
    "\n",
    "예를 들어서 bts가 id 1번이었는데 replace를 때려서 일부를 수정하게 되면 id 1의 레코드를 지워버리고, 2번 블랙핑크, 3번 윤하 그 다음에 id 4번으로 bts가 새로 데이터가 생기면서 bts의 id가 변경되어 버리는 문제가 발생할 수 있다. \n",
    "\n",
    "따라서 replace를 할때는 이를 조심해야 한다.\n",
    "\n",
    "그러면 이번엔 insert ignore를 알아보자.\n",
    "\n",
    "아래와 같은 쿼리를 날려보자."
   ]
  },
  {
   "cell_type": "code",
   "execution_count": null,
   "metadata": {},
   "outputs": [],
   "source": [
    "INSERT IGNORE pmstest.artist_genres(artist_id, genre, country) VALUES('1234','rock','UK');"
   ]
  },
  {
   "cell_type": "markdown",
   "metadata": {},
   "source": [
    "그러면 1 warning이 뜰것이다.\n",
    "\n",
    "말그대로 insert 하는데 무시하고 하라는 것이다.\n",
    "\n",
    "이번에는 아래와 같은 쿼리를 실행해본다."
   ]
  },
  {
   "cell_type": "code",
   "execution_count": null,
   "metadata": {},
   "outputs": [],
   "source": [
    "INSERT INTO pmstest.artist_genres(artist_id, genre, country) VALUES('1234','rock','FR') \n",
    "ON DUPLICATE KEY UPDATE artist_id='1234', genre='rock',country='FR';\n",
    "\n",
    "INSERT INTO pmstest.artist_genres(artist_id, genre, country) VALUES('1234','hip-hop','FR') \n",
    "ON DUPLICATE KEY UPDATE artist_id='1234', genre='hip-hop',country='FR';"
   ]
  },
  {
   "cell_type": "markdown",
   "metadata": {},
   "source": [
    "![image](https://user-images.githubusercontent.com/41605276/83328007-1437b280-a2bb-11ea-8c09-3a63da7ed13f.png)\n",
    "\n",
    "그러면 위에 그림과 같이 우리가 의도한 대로 데이터들을 업데이트 할 수 있다."
   ]
  }
 ],
 "metadata": {
  "kernelspec": {
   "display_name": "Python 3",
   "language": "python",
   "name": "python3"
  },
  "language_info": {
   "codemirror_mode": {
    "name": "ipython",
    "version": 3
   },
   "file_extension": ".py",
   "mimetype": "text/x-python",
   "name": "python",
   "nbconvert_exporter": "python",
   "pygments_lexer": "ipython3",
   "version": "3.7.4"
  }
 },
 "nbformat": 4,
 "nbformat_minor": 2
}
