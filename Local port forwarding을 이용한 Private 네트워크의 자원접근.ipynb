{
 "cells": [
  {
   "cell_type": "markdown",
   "metadata": {},
   "source": [
    ".\n",
    "\n",
    "Data_Engineering_TIL(20200526)\n",
    "\n",
    "#### 1. 로컬 포트포워딩을 이용한 EMR 접근\n",
    "\n",
    "#### [구현 목표]\n",
    "\n",
    "![33](https://user-images.githubusercontent.com/41605276/82958547-904aa580-9ff0-11ea-9290-113a46737739.png)\n",
    "\n",
    "위의 그림과 같이 로컬 포트포워딩을 이용하여 로컬 PC의 DBeaver에서 프라이빗 네트워크의 EMR Hive에 접속\n",
    "\n",
    "#### [구현 과정]\n",
    "\n",
    "STEP 1) 로컬 포트포워딩 설정\n",
    "\n",
    "아래 그림과 같이 Bastion에서 EMR로 가는 로컬 포트포워딩을 설정해준다\n",
    "\n",
    "![22222](https://user-images.githubusercontent.com/41605276/82958748-16ff8280-9ff1-11ea-85f6-fe6b4b34f521.PNG)"
   ]
  },
  {
   "cell_type": "code",
   "execution_count": null,
   "metadata": {},
   "outputs": [],
   "source": [
    "ssh -L 10000:[EMR 마스터노드의 프라이빗 아이피]:10000 [베스천서버에서 계정]@[베스천서버 퍼블릭 아이피]"
   ]
  },
  {
   "cell_type": "markdown",
   "metadata": {},
   "source": [
    "STEP 2) DBeaver에서 하이브 접속\n",
    "\n",
    "아래 그림과 같이 디비버로 하이브에 설정 후 접속시도하면 접속이 완료된다.\n",
    "\n",
    "![3333](https://user-images.githubusercontent.com/41605276/82958877-752c6580-9ff1-11ea-938c-ceda2f4db88c.png)"
   ]
  },
  {
   "cell_type": "markdown",
   "metadata": {},
   "source": [
    "#### 2. 로컬 포트포워딩을 이용한 Elasticsearch kibana 접근\n",
    "\n",
    "로컬 포트포워딩을 이용하여 로컬 PC에서 프라이빗 네트워크의 Elasticsearch kibana 접근\n",
    "\n",
    "step 1) 아래와 같이 로컬의 터미널에서 명령어 실행\n",
    "\n",
    "sudo ssh -i [베스천서버의 pem파일] ec2-user@[베스천서버 아이피] -L [소스포트]:[목적지주소]:[목적지포트]"
   ]
  },
  {
   "cell_type": "code",
   "execution_count": null,
   "metadata": {},
   "outputs": [],
   "source": [
    "minman@DESKTOP-QKRJSLG:/mnt/c/Users/user/Desktop/폴더1/aws key$ sudo ssh -i bastion.pem ec2-user@0.00.000.00 -L 9200:xxxxxxx.ap-northeast-2.es.amazonaws.com:443\n",
    "The authenticity of host '0.00.000.00' can't be established.\n",
    "ECDSA key fingerprint is SHA256:xxxxxxxxxxxxxxxxxxxxxxxxxxxxxxxxxx.\n",
    "Are you sure you want to continue connecting (yes/no/[fingerprint])? yes\n",
    "Warning: Permanently added '0.00.000.00' (ECDSA) to the list of known hosts.\n",
    "Last login: Tue Jul 28 05:38:10 2020 from 0.00.000.00\n",
    "\n",
    "       __|  __|_  )\n",
    "       _|  (     /   Amazon Linux 2 AMI\n",
    "      ___|\\___|___|\n",
    "\n",
    "https://aws.amazon.com/amazon-linux-2/\n",
    "[ec2-user@ip-10-77-0-36 ~]$"
   ]
  },
  {
   "cell_type": "markdown",
   "metadata": {},
   "source": [
    "step 2) 아래 그림과 같이 웹브라우저를 열고 `https://localhost:9200/_plugin/kibana/`로 접속 \n",
    "\n",
    "![image](https://user-images.githubusercontent.com/41605276/88625554-f2ed1a00-d0e3-11ea-8138-32d7e26b51c2.png)"
   ]
  }
 ],
 "metadata": {
  "kernelspec": {
   "display_name": "Python 3",
   "language": "python",
   "name": "python3"
  },
  "language_info": {
   "codemirror_mode": {
    "name": "ipython",
    "version": 3
   },
   "file_extension": ".py",
   "mimetype": "text/x-python",
   "name": "python",
   "nbconvert_exporter": "python",
   "pygments_lexer": "ipython3",
   "version": "3.7.4"
  }
 },
 "nbformat": 4,
 "nbformat_minor": 2
}
