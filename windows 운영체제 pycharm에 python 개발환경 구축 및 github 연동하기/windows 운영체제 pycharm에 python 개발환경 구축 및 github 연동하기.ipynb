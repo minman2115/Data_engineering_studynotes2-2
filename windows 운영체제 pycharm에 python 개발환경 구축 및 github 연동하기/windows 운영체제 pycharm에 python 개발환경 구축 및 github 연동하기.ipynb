{
 "cells": [
  {
   "cell_type": "markdown",
   "metadata": {},
   "source": [
    ".\n",
    "\n",
    "Data_Engineering_TIL(20201106)\n",
    "\n",
    "#### [실습목표]\n",
    "\n",
    "\n",
    "1. windows 운영체제에 pycharm을 설치하고, 파이썬 개발환경을 구축한다.\n",
    "\n",
    "\n",
    "2. 구축한 pycharm 개발환경과 나의 github와 연동을 해본다.\n",
    "\n",
    "\n",
    "#### [실습내용]\n",
    "\n",
    "step 1) windows에 python을 설치한다.\n",
    "\n",
    "먼저 `https://www.python.org/downloads/windows/` 에 접속하고, 원하는 버전의 `Download Windows x86 executable installer`를 클릭해서 다운로드 받는다.\n",
    "\n",
    "\n",
    "그런 다음에 다운로드 받은 설치파일을 실행한다. 그러면 아래와 같은 화면이 전시가 되는데 여기서 반드시 `Add python X.X to PATH`를 체크한다. 그런 다음에 install now를 클릭해서 설치한다.\n",
    "\n",
    "![1](https://user-images.githubusercontent.com/41605276/99221217-80837f80-2823-11eb-8007-d9deb55ee1d4.png)\n",
    "\n",
    "step 2) cmd 창을 열고 아래와 같이 파이썬이 정상적으로 설치되었는지 명령어를 실행해본다."
   ]
  },
  {
   "cell_type": "code",
   "execution_count": null,
   "metadata": {},
   "outputs": [],
   "source": [
    "Microsoft Windows [Version 10.0.19042.630]\n",
    "(c) 2020 Microsoft Corporation. All rights reserved.\n",
    "\n",
    "C:\\Users\\user>python --version\n",
    "Python 3.7.9\n",
    "\n",
    "C:\\Users\\user>"
   ]
  },
  {
   "cell_type": "markdown",
   "metadata": {},
   "source": [
    "step 3) pycharm을 설치한다.\n",
    "\n",
    "- 아래 URL에 접속해서 community용을 다운받는다. \n",
    "\n",
    "https://www.jetbrains.com/ko-kr/pycharm/download/#section=windows\n",
    "\n",
    "- 다운로드한 설치파일을 실행해서 pycharm 을 설치한다.\n",
    "\n",
    "참고로 설치 중간에 `create desktop shortcut` 옵션을 `64-bitlauncher`로 선택해준다.\n",
    "\n",
    "step 4) pycharm에서 나의 github repository를 clone한다. 그런다음에 python interpretor를 아래 그림과 같이 설정한다.\n",
    "\n",
    "system interpretor에서 사전에 내가 설치해놓은 파이썬을 선택해서 추가해주면 된다.\n",
    "\n",
    "![pycharm install](https://user-images.githubusercontent.com/41605276/99239368-4ecbe200-283e-11eb-931c-a0bf91a79af7.png)\n",
    "\n",
    "step 5) 그런 다음에 test 용 python file을 클론한 레포 안에 생성해주고 아래와 같이 해당 file을 add --> commit --> push 해준다.\n",
    "\n",
    "![pycharm install2](https://user-images.githubusercontent.com/41605276/99239704-c69a0c80-283e-11eb-8749-f55189fa859e.png)\n",
    "\n",
    "step 6) push 한 다음에 나의 깃허브 계정을 인증해준다. 그러면 push가 완료되어 내가 추가한 test용 python file이 나의 레포에 저장된 것을 확인할 수 있다.\n",
    "\n",
    "![pycharm install3](https://user-images.githubusercontent.com/41605276/99239924-12e54c80-283f-11eb-884f-ba4828d8402c.png)"
   ]
  }
 ],
 "metadata": {
  "kernelspec": {
   "display_name": "Python 3",
   "language": "python",
   "name": "python3"
  },
  "language_info": {
   "codemirror_mode": {
    "name": "ipython",
    "version": 3
   },
   "file_extension": ".py",
   "mimetype": "text/x-python",
   "name": "python",
   "nbconvert_exporter": "python",
   "pygments_lexer": "ipython3",
   "version": "3.7.4"
  }
 },
 "nbformat": 4,
 "nbformat_minor": 2
}
