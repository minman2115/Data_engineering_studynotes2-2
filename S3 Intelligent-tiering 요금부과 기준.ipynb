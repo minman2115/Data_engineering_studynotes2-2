{
 "cells": [
  {
   "cell_type": "markdown",
   "metadata": {},
   "source": [
    ".\n",
    "\n",
    "Data_Engineering_TIL(20200530)\n",
    "\n",
    "\n",
    "![image](https://user-images.githubusercontent.com/41605276/85220267-0c17f200-b3e5-11ea-93b7-b294b3c079ce.png)\n",
    "\n",
    "\n",
    "### [기본 요금부과 기준]\n",
    "\n",
    "#### Frequent/Infrequent Access tier storage fee + monitoring & automation fee\n",
    "\n",
    "** 참고사항 \n",
    "\n",
    "1) monitoring & automation fee : 객체 1,000개당 0.0025 USD\n",
    "\n",
    "2) 30-day minimum usage term에 주의필요\n",
    "\n",
    "30일 이전에 delete, overwritten, transition to different storage class가 발생한 object가 있다면 30일 채우기까지 남은 기간만큼에 대해서도 charge\n",
    "\n",
    "3) auto-tiering(frequent tier <--> infrequent tier전환)시 별도의 transition cost 없음\n",
    "\n",
    "4) retrieval(데이터 검색) 비용 없음\n",
    "\n",
    "### [액세스 패턴에 따른 요금부과 기준]\n",
    "\n",
    "1. Frequent <--> Infrequent Access tier 전환방식\n",
    "\n",
    "액세스 패턴을 모니터링한 이후 30일 연속 액세스가 되지 않은 object를 자동으로 infrequent access tier로 전환\n",
    "\n",
    "2. Access tier 전환 시 요금부과 방법\n",
    "\n",
    "예제 1) Object가 한달의 첫 15일동안 infrequent access, 나머지 15일 동안은 frequent access일 경우 월말 요금은?\n",
    "\n",
    "#### --> 해당 월의 cost는 infrequent access/frequent access 나눠서 계산됨\n",
    "\n",
    "Object는 access 되는 순간 frequent access로 바뀌며, 30일간 액세스가 없어야만 다시 infrequent access tier로 전환됨\n",
    "\n",
    "예제 2) 4월 30일 기준 Infrequent Access 였는데 5월 1일을 기점으로 데이터 접근이 빈번한 경우 5월말 요금은?\n",
    "\n",
    "(Frequent Access 요금? Infrequent Access 요금? 아니면 6월달에 Frequent Access로 전환?)\n",
    "\n",
    "#### --> frequent access tier 요금으로 과금\n",
    "\n",
    "### [Intelligent-tiering 관련 참고자료]\n",
    "\n",
    "- https://aws.amazon.com/blogs/aws/new-automatic-cost-optimization-for-amazon-s3-via-intelligent-tiering/\n",
    "\n",
    "\n",
    "- https://www.youtube.com/watch?v=Y699Gjx2rNw\n",
    "\n",
    "\n",
    "- https://aws.amazon.com/s3/storage-classes-infographic/"
   ]
  }
 ],
 "metadata": {
  "kernelspec": {
   "display_name": "Python 3",
   "language": "python",
   "name": "python3"
  },
  "language_info": {
   "codemirror_mode": {
    "name": "ipython",
    "version": 3
   },
   "file_extension": ".py",
   "mimetype": "text/x-python",
   "name": "python",
   "nbconvert_exporter": "python",
   "pygments_lexer": "ipython3",
   "version": "3.7.4"
  }
 },
 "nbformat": 4,
 "nbformat_minor": 2
}
