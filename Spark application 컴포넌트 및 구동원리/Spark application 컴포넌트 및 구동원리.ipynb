{
 "cells": [
  {
   "cell_type": "markdown",
   "metadata": {},
   "source": [
    ".\n",
    "\n",
    "Data_Enginieering_TIL(20201226)\n",
    "\n",
    "[학습시 참고자료]\n",
    "\n",
    "- 블로그글 \"Spark. Anatomy of Spark application\" 을 읽고 학습한 내용을 공부한 노트임\n",
    "\n",
    "URL : https://luminousmen.com/post/spark-anatomy-of-spark-application\n",
    "\n",
    "[학습내용]\n",
    "\n",
    "![1](https://user-images.githubusercontent.com/41605276/103148100-7ef09400-479f-11eb-89d9-a346b644a915.jpg)\n",
    "\n",
    "![2](https://user-images.githubusercontent.com/41605276/103148102-86b03880-479f-11eb-8231-4aabec31677d.jpg)\n",
    "\n",
    "![3](https://user-images.githubusercontent.com/41605276/103148104-8ca61980-479f-11eb-86d6-49d1e4cfb2b7.jpg)\n",
    "\n",
    "![4](https://user-images.githubusercontent.com/41605276/103148107-93cd2780-479f-11eb-9b3b-61f3f033f962.jpg)\n",
    "\n",
    "![5](https://user-images.githubusercontent.com/41605276/103148113-9af43580-479f-11eb-9c06-2d7f7839b74e.jpg)\n",
    "\n",
    "- Spark Application running steps\n",
    "\n",
    "예시 어플리케이션"
   ]
  },
  {
   "cell_type": "code",
   "execution_count": null,
   "metadata": {},
   "outputs": [],
   "source": [
    "from pyspark.sql import SparkSession\n",
    "\n",
    "# initialization of spark context\n",
    "conf = SparkConf().setAppName(appName).setMaster(master) \n",
    "sc = SparkSession\\\n",
    "        .builder\\\n",
    "        .appName(\"PythonWordCount\")\\\n",
    "        .config(conf=conf)\\\n",
    "        .getOrCreate()\n",
    "\n",
    "# read data from HDFS, as a result we get RDD of lines\n",
    "linesRDD = sc.textFile(\"hdfs://...\")\n",
    "\n",
    "# from RDD of lines create RDD of lists of words \n",
    "wordsRDD = linesRDD.flatMap(lambda line: line.split(\" \")\n",
    "\n",
    "# from RDD of lists of words make RDD of words tuples where \n",
    "# the first element is a word and the second is counter, at the\n",
    "# beginning it should be 1\n",
    "wordCountRDD= wordsRDD.map(lambda word: (word, 1))\n",
    "\n",
    "# combine elements with the same word value\n",
    "resultRDD = wordCountRDD.reduceByKey(lambda a, b: a + b)\n",
    "\n",
    "# write it back to HDFS\n",
    "resultRDD.saveAsTextFile(\"hdfs://...\")\n",
    "spark.stop()"
   ]
  },
  {
   "cell_type": "markdown",
   "metadata": {},
   "source": [
    "![6](https://user-images.githubusercontent.com/41605276/103148115-a0ea1680-479f-11eb-958d-64a874b8e500.jpg)\n",
    "\n",
    "step 1) When we send the Spark application in cluster mode, the `spark-submit` utility communicates with the Cluster Resource Manager to start the Application Master.\n",
    "\n",
    "step 2) The Resource Manager is then held responsible for selecting the necessary container in which to run the Application Master. The Resource Manager then tells a specific Node Manager to launch the Application Master.\n",
    "\n",
    "step 3) The Application Master registers with the Resource Manager. Registration allows the client program to request information from the Resource Manager, that information allows the client program to communicate directly with its own Application Master.\n",
    "\n",
    "step 4) The Spark Driver then runs on the Application Master container (in case of cluster mode).\n",
    "\n",
    "step 5) The driver implicitly converts user code containing transformations and actions into a logical plan called a DAG. All RDDs are created in the driver and do nothing until the action is called. At this stage, the driver also performs optimizations such as pipelining narrow transformations.\n",
    "\n",
    "step 6) It then converts the DAG into a physical execution plan. After conversion to a physical execution plan, the driver creates physical execution units called tasks at each stage.\n",
    "\n",
    "step 7) The Application Master now communicates with the Cluster Manager and negotiates resources. Cluster Manager allocates containers and asks the appropriate NodeManagers to run the executors on all selected containers. When executors run, they register with the Driver. This way, the Driver has a complete view of the artists.\n",
    "\n",
    "step 8) At this point, the Driver will send tasks to executors via Cluster Manager based on the data placement.\n",
    "\n",
    "step 9) The code of the user application is launched inside the container. It provides information (stage of execution, status) to the Application Master. \n",
    "\n",
    "step 10) At this stage, we will start to execute our code. Our first RDD will be created by reading data in parallel from HDFS to different partitions on different nodes based on HDFS InputFormat. Thus, each node will have a subset of data.\n",
    "\n",
    "step 11) After reading the data we have two map transformations which will be executed in parallel on each partition.\n",
    "\n",
    "step 12) Next, we have a `reduceByKey` transformation, it is not a narrow transformation like `map`, so it will create an additional stage. It combines records with the same keys, then moves data between nodes (shuffle) and partitions to combine the keys of the same record.\n",
    "\n",
    "step 13) We then perform an action — write back to HDFS which will trigger the entire DAG execution. During the execution of the user application, the client communicates with the Application Master to obtain the application status.\n",
    "\n",
    "step 14) When the application finishes executing and all of the necessary work is done, the Application Master disconnects itself from the Resource Manager and stops, freeing up its container for other purposes."
   ]
  }
 ],
 "metadata": {
  "kernelspec": {
   "display_name": "Python 3",
   "language": "python",
   "name": "python3"
  },
  "language_info": {
   "codemirror_mode": {
    "name": "ipython",
    "version": 3
   },
   "file_extension": ".py",
   "mimetype": "text/x-python",
   "name": "python",
   "nbconvert_exporter": "python",
   "pygments_lexer": "ipython3",
   "version": "3.7.4"
  }
 },
 "nbformat": 4,
 "nbformat_minor": 2
}
