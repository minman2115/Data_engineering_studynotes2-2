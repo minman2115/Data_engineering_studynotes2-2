{
 "cells": [
  {
   "cell_type": "markdown",
   "metadata": {},
   "source": [
    ".\n",
    "\n",
    "Data_Engineering_studynote_TIL(20200416)\n",
    "\n",
    "#### 1. 개요\n",
    "\n",
    "RDS Subnet Group 변경 시 발생한 오류해결 대한 테크노트\n",
    "\n",
    "#### 2. Configuration 수정사항\n",
    "\n",
    "1) 지역 : 서울리전\n",
    "\n",
    "2) AS-IS RDS Configuration : 디폴트 서브넷 그룹(가용영역 A Public subnet,가용영역 C Public subnet,가용영역 A Private subnet,가용영역 C Private subnet)\n",
    "\n",
    "\n",
    "3) TO-BE RDS Configuration : 커스텀 서브넷 그룹(가용영역 A Private subnet,가용영역 C Private subnet)\n",
    "\n",
    "\n",
    "#### 3. RDS Configuration 변경 중에 이슈 \n",
    "\n",
    "RDS 설정수정 후 적용 시 아래와 같은 오류 발생\n",
    "\n",
    "\"you cannot move DB instance 'AS-IS RDS instance' to 'TO-BE Subnet group'. The specified DB Subnet group and DB Instance are in the same VPC. Choose DB subnet group in different VPC than the specified DB instance and try again. ...\"\n",
    "\n",
    "\n",
    "#### 4. 해결방안 \n",
    "\n",
    "방안 1) New 서브넷 그룹(가용영역 B Temp subnet 1,가용영역 B Temp subnet 2) 생성 후 New 서브넷 그룹으로 RDS configuration 변경. 변경 후 커스텀 서브넷 그룹(가용영역 A Private subnet,가용영역 C Private subnet)으로 재변경\n",
    "** 가용영역 A나 C의 subnet을 하나 이상 포함하여 생성 서브넷그룹 생성 후 RDS configuration 변경 적용 시 위와 같이 동일한 애러 발생\n",
    "\n",
    "\n",
    "-> 트러블슈팅 실패 : 서브넷 그룹 생성 불가(상이한 가용영역 서브넷 2개 이상필요)\n",
    "\n",
    "방안 2) 기존 RDS를 수동 스냅샷 떠서 재생성, 커스텀 서브넷 그룹 적용(가용영역 A Private subnet,가용영역 C Private subnet)\n",
    "\n",
    "step 1) 수동 스냅샷 생성\n",
    "\n",
    "step 2) 기존 RDS 삭제\n",
    "\n",
    "step 3) 수동 스냅샷 이용 restore\n",
    "\n",
    "** subnet group 설정을 제외한 모든 설정 변동없음\n",
    "\n",
    "\n",
    "-> 트러블슈팅 성공 : 스냅샷떠서 재생성 시 앤드포인트 등 모든 AS-IS RDS 설정내역 그대로 재생성 가능"
   ]
  }
 ],
 "metadata": {
  "kernelspec": {
   "display_name": "Python 3",
   "language": "python",
   "name": "python3"
  },
  "language_info": {
   "codemirror_mode": {
    "name": "ipython",
    "version": 3
   },
   "file_extension": ".py",
   "mimetype": "text/x-python",
   "name": "python",
   "nbconvert_exporter": "python",
   "pygments_lexer": "ipython3",
   "version": "3.7.4"
  }
 },
 "nbformat": 4,
 "nbformat_minor": 2
}
