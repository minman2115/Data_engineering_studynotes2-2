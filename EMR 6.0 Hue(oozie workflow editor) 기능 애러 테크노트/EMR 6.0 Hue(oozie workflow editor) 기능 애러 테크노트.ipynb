{
 "cells": [
  {
   "cell_type": "markdown",
   "metadata": {},
   "source": [
    ".\n",
    "\n",
    "1. 개요\n",
    "\n",
    "EMR 6.0 Hue oozie workflow editor 접근 시 발생한 애러에 대한 테크노트임\n",
    "\n",
    "5.29 ver 에서도 동일한 애러발생, 5.28 ver 이하는 정상작동\n",
    "\n",
    "2. 애러식별 내용\n",
    " \n",
    "1) oozie workflow editor 기능접근 시도 시 can not open oozie workflow editor 현상확인"
   ]
  },
  {
   "cell_type": "code",
   "execution_count": null,
   "metadata": {},
   "outputs": [],
   "source": [
    "   exception    ERROR    Internal Server Error: /desktop/workers/aceSqlLocationWorker.js\n",
    "Traceback (most recent call last):\n",
    "  File \"/usr/local/hue/build/env/lib/python2.7/site-packages/Django-1.11.20-py2.7.egg/django/core/handlers/exception.py\", line 41, in inner\n",
    "    response = get_response(request)\n",
    "  File \"/usr/local/hue/build/env/lib/python2.7/site-packages/Django-1.11.20-py2.7.egg/django/core/handlers/base.py\", line 249, in _legacy_get_response\n",
    "    response = self._get_response(request)\n",
    "  File \"/usr/local/hue/build/env/lib/python2.7/site-packages/Django-1.11.20-py2.7.egg/django/core/handlers/base.py\", line 187, in _get_response\n",
    "    response = self.process_exception_by_middleware(e, request)\n",
    "  File \"/usr/local/hue/build/env/lib/python2.7/site-packages/Django-1.11.20-py2.7.egg/django/core/handlers/base.py\", line 185, in _get_response\n",
    "    response = wrapped_callback(request, *callback_args, **callback_kwargs)\n",
    "  File \"/usr/local/hue/build/env/lib/python2.7/site-packages/Django-1.11.20-py2.7.egg/django/utils/decorators.py\", line 185, in inner\n",
    "    return func(*args, **kwargs)\n",
    "  File \"/usr/local/hue/desktop/core/src/desktop/views.py\", line 373, in ace_sql_location_worker\n",
    "    return HttpResponse(render('ace_sql_location_worker.mako', request, None), content_type=\"application/javascript\")\n",
    "  File \"/usr/local/hue/desktop/core/src/desktop/lib/django_util.py\", line 225, in render\n",
    "    data.update({'user': request.user})"
   ]
  },
  {
   "cell_type": "markdown",
   "metadata": {},
   "source": [
    "애러 재현방법\n",
    "\n",
    "STEP 1) EMR 6.0을 아래와 같이 구동\n",
    "\n",
    "![1](https://user-images.githubusercontent.com/41605276/80308581-c7b80d80-880a-11ea-9412-77847016caaf.png)\n",
    "\n",
    "STEP 2) Hue에 접속하여 아래 그림과 같이 oozie workflow editor 실행 \n",
    "\n",
    "![2](https://user-images.githubusercontent.com/41605276/80308151-3e074080-8808-11ea-8034-72b85a3aead2.jpg)\n",
    "\n",
    "STEP 3) 아래 그림과 같이 500 ERROR 확인\n",
    "\n",
    "![3](https://user-images.githubusercontent.com/41605276/80308170-58411e80-8808-11ea-85d4-a9b1dbccfc07.png)\n",
    "\n",
    "2) new workflow folder 생성이 안되는 현상\n",
    "\n",
    "hue IOError: [Errno None] Error accessing directory    /user/hue/oozie/workspaces/hue-oozie-1501307582.31\n",
    "\n",
    "3) 사용자 home directory 생성이 안되는 현상\n",
    "\n",
    "3. 트러블 슈팅 : AWS 문의 후 해당오류 내용에 대한 임시 패치파일을 다운받아서 해결\n",
    "\n",
    "\"AWS에서는 해당 애러를 인지하여, 영구적으로 수정보완하는 작업을 진행중이다. 그전까지는 임시로 패치파일(huePatch.diff)을 적용하여 해결할 것\"\n",
    "\n",
    "[답변내용 일부발췌]"
   ]
  },
  {
   "cell_type": "code",
   "execution_count": null,
   "metadata": {},
   "outputs": [],
   "source": [
    "It seems that Hue is unable to find a directory for the user admin. \n",
    "\n",
    "Please find log snippet below:\n",
    "------------------\n",
    "ERROR    All 1 clients failed: {'http://ip-000-000-0-000.ap-northeast-2.compute.internal:14000/webhdfs/v1 ': u'404 Client Error: Not Found for url: http://ip-000-000-0-000.ap-northeast-2.compute.internal:14000/webhdfs/v1/user/admin?op=GETFILESTATUS&user.name=hue&doas=admin\\n {\"RemoteException\":{\"message\":\"File does not exist: \\\\/user\\\\/admin\",\"exception\":\"FileNotFoundException\",\"javaClassName\":\"java.io.FileNotFoundException\"}}\\n'}\n",
    "------------------\n",
    "\n",
    "The service team is aware of this issue and it is encountered on EMR version 5.29 and 6.0. The team is currently working on a permanent fix, but in the meantime has provided the following steps as a workaround to mitigate the issue:\n",
    "\n",
    "1. Download the attached patch file and copy it to the master node of your Cluster\n",
    "2. SSH into EMR master node and go to hue directory: $cd /usr/lib/hue/\n",
    "3. Apply the Hue patch: $sudo patch -p1 < ~/huePatch.diff\n",
    "4. Restart Hue: \n",
    "    $sudo /etc/init.d/hue stop\n",
    "    $sudo /etc/init.d/hue start \n",
    "    $sudo /etc/init.d/hue status --> Verify it is ok\n",
    "5. Open the Hue UI and try creating the Oozie Workflow.\n",
    "\n",
    "This patch is also tested in my test environment and is working fine. Please find the attached screen-shot for your reference.  "
   ]
  }
 ],
 "metadata": {
  "kernelspec": {
   "display_name": "Python 3",
   "language": "python",
   "name": "python3"
  },
  "language_info": {
   "codemirror_mode": {
    "name": "ipython",
    "version": 3
   },
   "file_extension": ".py",
   "mimetype": "text/x-python",
   "name": "python",
   "nbconvert_exporter": "python",
   "pygments_lexer": "ipython3",
   "version": "3.7.4"
  }
 },
 "nbformat": 4,
 "nbformat_minor": 2
}
