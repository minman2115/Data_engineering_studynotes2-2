{
 "cells": [
  {
   "cell_type": "markdown",
   "metadata": {},
   "source": [
    ".\n",
    "\n",
    "Data_Engineering_TIL(20200729)\n",
    "\n",
    "\n",
    "#### 이슈 요약\n",
    "\n",
    "AWS elasticsearch 도메인을 생성하고, 콘솔에 접근 시 아래 그림과 같이 클러스터 헬스나 indices 등 일부 접근권한 문제 확인\n",
    "\n",
    "증상\n",
    "\n",
    "Elasticsearch 콘솔에서 cluster heath 메뉴 접근 시 아래와 같은 애러 메세지 확인\n",
    "\n",
    "`/_cluster/health: {\"error\":{\"root_cause\":[{\"type\":\"security_exception\",\"reason\":\"no permissions for [cluster:monitor/health] and User [name=arn:aws:iam::0000000000:user/000000, backend_roles=[], requestedTenant=null]\"}],\"type\":\"security_exception\",\"reason\":\"no permissions for [cluster:monitor/health] and User [name=arn:aws:iam::0000000000:user/00000, backend_roles=[], requestedTenant=null]\"},\"status\":403}`\n",
    "\n",
    "Elasticsearch 콘솔에서 indices 메뉴 접근 시 아래와 같은 애러 메세지 확인\n",
    "\n",
    "`/_mapping: {\"error\":{\"root_cause\":[{\"type\":\"security_exception\",\"reason\":\"no permissions for [indices:admin/mappings/get] and User [name=arn:aws:iam::0000000000:user/000000, backend_roles=[], requestedTenant=null]\"}],\"type\":\"security_exception\",\"reason\":\"no permissions for [indices:admin/mappings/get] and User [name=arn:aws:iam::0000000000:user/000000, backend_roles=[], requestedTenant=null]\"},\"status\":403}`\n",
    "\n",
    "#### 해결방안\n",
    "\n",
    "AWS Developer Forums \"Not able to access cluster health and indices\" 글 참고\n",
    "\n",
    "URL : https://forums.aws.amazon.com/thread.jspa?messageID=939690&tstart=0"
   ]
  },
  {
   "cell_type": "code",
   "execution_count": null,
   "metadata": {},
   "outputs": [],
   "source": [
    "이슈내용\n",
    "\n",
    "I have created a ES domain and it is in active state now . I am able to access Kibana and also manually push data into ES.\n",
    "\n",
    "But I am unable to access the cluster health and Indices tabs in console.. It throws below error , when I open it.\n",
    "\n",
    "For cluster health:\n",
    "/_cluster/health: {\"error\":{\"root_cause\":[{\"type\":\"security_exception\",\"reason\":\"no permissions for cluster:monitor/health and User https://forums.aws.amazon.com/, requestedTenant=null]\"}],\"type\":\"security_exception\",\"reason\":\"no permissions for cluster:monitor/health and User https://forums.aws.amazon.com/, requestedTenant=null]\"},\"status\":403}\n",
    "\n",
    "For indices:\n",
    "/_mapping: {\"error\":{\"root_cause\":[{\"type\":\"security_exception\",\"reason\":\"no permissions for indices:admin/mappings/get and User https://forums.aws.amazon.com/, requestedTenant=null]\"}],\"type\":\"security_exception\",\"reason\":\"no permissions for indices:admin/mappings/get and User https://forums.aws.amazon.com/, requestedTenant=null]\"},\"status\":403}\n",
    "\n",
    "해결방안\n",
    "\n",
    "I was getting the same error and I solved giving my IAM user permission inside kibana:\n",
    "1- in you elastic search console, tab overview, click in the Kibana link\n",
    "2-Once logged in Kibana click in the security menu option\n",
    "3- Go to Role Mapping option\n",
    "4- choose the role all_access and click in EDIT\n",
    "5- add you IAM ARN (you can get in the AWS IAM summary for your user) arn:aws:iam::********:user/USER_NAME"
   ]
  },
  {
   "cell_type": "markdown",
   "metadata": {},
   "source": [
    "아래 그림과 같이 키바나에서 특정계정에 대한 권한을 부여하면 elasticsearch 콘솔의 문제가 되었던 정보를 조회할 수 있다.\n",
    "\n",
    "![1](https://user-images.githubusercontent.com/41605276/88756332-5b98cd00-d19e-11ea-9c0a-4e0947ad3c66.png)\n"
   ]
  }
 ],
 "metadata": {
  "kernelspec": {
   "display_name": "Python 3",
   "language": "python",
   "name": "python3"
  },
  "language_info": {
   "codemirror_mode": {
    "name": "ipython",
    "version": 3
   },
   "file_extension": ".py",
   "mimetype": "text/x-python",
   "name": "python",
   "nbconvert_exporter": "python",
   "pygments_lexer": "ipython3",
   "version": "3.7.4"
  }
 },
 "nbformat": 4,
 "nbformat_minor": 2
}
